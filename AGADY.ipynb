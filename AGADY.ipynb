{
 "cells": [
  {
   "cell_type": "code",
   "execution_count": null,
   "id": "777adaa4",
   "metadata": {},
   "outputs": [],
   "source": [
    "import pandas as pd\n",
    "import matplotlib.pyplot as plt\n",
    "import seaborn as sns\n",
    "data = pd.read_csv('https://public.opendatasoft.com/api/explore/v2.1/catalog/datasets/airbnb-listings/exports/csv?lang=en&facet=facet(name%3D%22host_verifications%22%2C%20disjunctive%3Dtrue)&facet=facet(name%3D%22amenities%22%2C%20disjunctive%3Dtrue)&facet=facet(name%3D%22features%22%2C%20disjunctive%3Dtrue)&qv1=(Madrid)&timezone=Europe%2FBerlin&use_labels=true&csv_separator=%3B', sep = ';')"
   ]
  },
  {
   "cell_type": "code",
   "execution_count": null,
   "id": "a0e043e2",
   "metadata": {},
   "outputs": [],
   "source": [
    "data.columns"
   ]
  },
  {
   "cell_type": "markdown",
   "id": "eb338e5f",
   "metadata": {},
   "source": [
    "Vemos que Features puedee contener información que puede llegar a modificar el precio del alquiler, decidimos convertir esta información en columnas booleanas para trabajar con ella."
   ]
  },
  {
   "cell_type": "code",
   "execution_count": null,
   "id": "e476fb4f",
   "metadata": {},
   "outputs": [],
   "source": [
    "data['Profile Pic'] = data['Features'].str.contains('Host Has Profile Pic')\n",
    "data['Identity Verified'] = data['Features'].str.contains('Host Identity Verified')\n",
    "data['Location Exact'] = data['Features'].str.contains('Is Location Exact')\n",
    "data['Instant Bookable'] = data['Features'].str.contains('Instant Bookable')\n",
    "data['License Required'] = data['Features'].str.contains('Requires License')\n",
    "data['Guest Pic Required'] = data['Features'].str.contains('Require Guest Profile Picture')\n",
    "data['Superhost'] = data['Features'].str.contains('Host Is Superhost')\n",
    "data['Guest Phone Verification'] = data['Features'].str.contains('Require Guest Phone Verification')"
   ]
  },
  {
   "cell_type": "code",
   "execution_count": null,
   "id": "1dac358c",
   "metadata": {},
   "outputs": [],
   "source": [
    "data.columns=[col.lower().replace(\" \",\"_\") for col in data.columns]"
   ]
  },
  {
   "cell_type": "code",
   "execution_count": null,
   "id": "e1372d78",
   "metadata": {},
   "outputs": [],
   "source": [
    "data.info()"
   ]
  },
  {
   "cell_type": "markdown",
   "id": "5ffb9759",
   "metadata": {},
   "source": [
    "Vemos en forma de cuadro los distintos países que se incluyen en el dataset. Decidimos trabajar con el país que mayor datos tiene."
   ]
  },
  {
   "cell_type": "code",
   "execution_count": null,
   "id": "abab432a",
   "metadata": {},
   "outputs": [],
   "source": [
    "sns.countplot(data['country'], palette = \"pastel\")\n",
    "plt.title(\"Countries\")"
   ]
  },
  {
   "cell_type": "code",
   "execution_count": null,
   "id": "1c93c1df",
   "metadata": {},
   "outputs": [],
   "source": [
    "data = data[data['country']=='Spain']"
   ]
  },
  {
   "cell_type": "code",
   "execution_count": null,
   "id": "e2102162",
   "metadata": {},
   "outputs": [],
   "source": [
    "data.city.values_counts()"
   ]
  },
  {
   "cell_type": "markdown",
   "id": "f975137b",
   "metadata": {},
   "source": [
    "Vemos también que los datos son mayoritariamente de Madrid. Limpiamos para quedarnos solo con datos de Madrid, corrigierndo errores de zipcode y ciudad escrito con otro formato."
   ]
  },
  {
   "cell_type": "code",
   "execution_count": null,
   "id": "fc1dadd2",
   "metadata": {},
   "outputs": [],
   "source": [
    "data[data['zipcode'].str.startswith('28'), na=False]"
   ]
  },
  {
   "cell_type": "code",
   "execution_count": null,
   "id": "85f7b179",
   "metadata": {},
   "outputs": [],
   "source": [
    "print(data['zipcode'].unique())"
   ]
  },
  {
   "cell_type": "code",
   "execution_count": null,
   "id": "22ab36c5",
   "metadata": {},
   "outputs": [],
   "source": [
    "data=data.replace({'28002\\n28002' : '28002', '2802\\n28012' : '28012', '28051\\n28051': '28051', '280013': '28013'})\n",
    "print(data['zipcode'].unique())"
   ]
  },
  {
   "cell_type": "code",
   "execution_count": null,
   "id": "067ff1ed",
   "metadata": {},
   "outputs": [],
   "source": [
    "data = data.drop(data[data['zipcode']=='28'].index)\n",
    "data = data.drop(data[data['zipcode']=='2805'].index)\n",
    "data = data.drop(data[data['zipcode']=='2815'].index)\n",
    "data = data.drop(data[data['zipcode']=='2804'].index)\n",
    "print(data['zipcode'].unique())"
   ]
  },
  {
   "cell_type": "code",
   "execution_count": null,
   "id": "7c60c347",
   "metadata": {},
   "outputs": [],
   "source": [
    "data.loc[data['city'] != 'Madrid', 'city'] == 'Madrid'"
   ]
  },
  {
   "cell_type": "markdown",
   "id": "6ce232b5",
   "metadata": {},
   "source": [
    "Con los datos especificos ya limpios y decididos nos deshacemos de columnas con las que no trabajaremos"
   ]
  },
  {
   "cell_type": "code",
   "execution_count": null,
   "id": "874aa119",
   "metadata": {},
   "outputs": [],
   "source": [
    "data = data.drop(columns = ['listing_url','summary','thumbnail_url','host_total_listings_count', 'medium_url','host_url',\n",
    "'experiences_offered', 'host_response_time', 'host_response_rate', 'host_acceptance_rate', 'host_thumbnail_url',\n",
    "'host_picture_url','access', 'interaction', 'house_rules', 'host_id', 'host_name', 'host_location', 'host_about', \n",
    "'host_listings_count', 'host_verifications', 'neighbourhood', 'city', 'state',  'market', 'smart_location', 'country_code', \n",
    "'country', 'accommodates', 'bathrooms', 'bedrooms', 'beds', 'amenities', 'weekly_price', 'monthly_price', 'guests_included', \n",
    "'extra_people', 'minimum_nights', 'maximum_nights', 'calendar_updated', 'has_availability', 'availability_30', 'availability_60', \n",
    "'availability_90', 'calendar_last_scraped', 'first_review', 'last_review',  'review_scores_accuracy', 'review_scores_cleanliness',\n",
    "'review_scores_checkin', 'review_scores_communication', 'review_scores_location', 'license', 'jurisdiction_names', 'features', \n",
    "'scrape_id', 'last_scraped', 'name', 'space', 'description', 'notes', 'transit', 'street', 'review_scores_rating',\n",
    "'neighborhood_overview', 'reviews_per_month', 'xl_picture_url'])"
   ]
  },
  {
   "cell_type": "code",
   "execution_count": null,
   "id": "4d1225da",
   "metadata": {},
   "outputs": [],
   "source": [
    "data.info()"
   ]
  },
  {
   "cell_type": "markdown",
   "id": "139d2e96",
   "metadata": {},
   "source": [
    "Creamos un mapa de correlación para visualizar que columnas tienen una relación mayor y plantear el modelo de regresión"
   ]
  },
  {
   "cell_type": "code",
   "execution_count": null,
   "id": "efe1955e",
   "metadata": {},
   "outputs": [],
   "source": [
    "corr = data.corr(method='kendall')\n",
    "plt.figure(figsize=(15,8), facecolor = 'white')\n",
    "sns.heatmap(corr, annot=True,)\n",
    "data.columns"
   ]
  },
  {
   "cell_type": "markdown",
   "id": "ec74f9ef",
   "metadata": {},
   "source": [
    "Hacemos un par de boxplot para comparar la relación que tienen lo alquilados que estan los airbnb si tienen foto de perfil los host o si es superhost."
   ]
  },
  {
   "cell_type": "code",
   "execution_count": null,
   "id": "002b5369",
   "metadata": {},
   "outputs": [],
   "source": [
    "sns.boxplot(x='profile_pic', y=\"availability_365\",data=data)"
   ]
  },
  {
   "cell_type": "code",
   "execution_count": null,
   "id": "615470e9",
   "metadata": {},
   "outputs": [],
   "source": [
    "sns.boxplot(x='superhost', y=\"availability_365\",data=data)"
   ]
  },
  {
   "cell_type": "code",
   "execution_count": null,
   "id": "baea9978",
   "metadata": {},
   "outputs": [],
   "source": [
    "data.to_csv('data1.csv')\n",
    "from google.colab import files \n",
    "files.download('data1.csv')"
   ]
  },
  {
   "cell_type": "markdown",
   "id": "e847d40c",
   "metadata": {},
   "source": [
    "Descargamos una version limpia del Dataset para continuar trabajando en Tablau y RStudio."
   ]
  },
  {
   "cell_type": "markdown",
   "id": "6363bb72",
   "metadata": {},
   "source": [
    "Guardamos 2 copias, una transformando los NaN a 0 y otra sin contar los NaN, se comparan con boxplot. No se continúa con esta información en Tableau ni en el modelo de regresión"
   ]
  },
  {
   "cell_type": "code",
   "execution_count": null,
   "id": "b23e2332",
   "metadata": {},
   "outputs": [],
   "source": [
    "test_data = data.copy()"
   ]
  },
  {
   "cell_type": "code",
   "execution_count": null,
   "id": "08e69dee",
   "metadata": {},
   "outputs": [],
   "source": [
    "test_data[\"price\"] = data[\"price\"].fillna(0)\n",
    "test_data[\"security_deposit\"] = data[\"security_deposit\"].fillna(0)\n",
    "test_data[\"cleaning_fee\"] = data[\"cleaning_fee\"].fillna(0)"
   ]
  },
  {
   "cell_type": "code",
   "execution_count": null,
   "id": "a205c3ff",
   "metadata": {},
   "outputs": [],
   "source": [
    "test_data[\"sum_price\"] = test_data.price + test_data.security_deposit + test_data.cleaning_fee"
   ]
  },
  {
   "cell_type": "code",
   "execution_count": null,
   "id": "3d6c51e1",
   "metadata": {},
   "outputs": [],
   "source": [
    "prueba = data.copy()"
   ]
  },
  {
   "cell_type": "code",
   "execution_count": null,
   "id": "0cf34837",
   "metadata": {},
   "outputs": [],
   "source": [
    "prueba=data.dropna(subset=[\"security_deposit\"])\n",
    "prueba=prueba.dropna(subset=[\"cleaning_fee\"])\n",
    "prueba=prueba.dropna(subset=[\"review_scores_value\"])\n",
    "prueba.info()"
   ]
  },
  {
   "cell_type": "code",
   "execution_count": null,
   "id": "3217f659",
   "metadata": {},
   "outputs": [],
   "source": [
    "prueba['total_price'] = prueba['price'] + prueba['security_deposit']+ prueba['cleaning_fee']\n",
    "prueba.info()"
   ]
  },
  {
   "cell_type": "code",
   "execution_count": null,
   "id": "69867436",
   "metadata": {},
   "outputs": [],
   "source": [
    "sns.boxplot(x=\"sum_price\", y=\"room_type\", data = test_data)"
   ]
  },
  {
   "cell_type": "code",
   "execution_count": null,
   "id": "ac2fd3e2",
   "metadata": {},
   "outputs": [],
   "source": [
    "sns.boxplot(x=\"total_price\", y=\"room_type\", data = prueba)"
   ]
  },
  {
   "cell_type": "code",
   "execution_count": null,
   "id": "3346253f",
   "metadata": {},
   "outputs": [],
   "source": [
    "sns.boxplot(x=\"price\", y=\"room_type\", data = test_data)"
   ]
  },
  {
   "cell_type": "code",
   "execution_count": null,
   "id": "8f096176",
   "metadata": {},
   "outputs": [],
   "source": [
    "sns.boxplot(x=\"price\", y=\"room_type\", data= prueba)"
   ]
  }
 ],
 "metadata": {
  "kernelspec": {
   "display_name": "Python 3 (ipykernel)",
   "language": "python",
   "name": "python3"
  },
  "language_info": {
   "codemirror_mode": {
    "name": "ipython",
    "version": 3
   },
   "file_extension": ".py",
   "mimetype": "text/x-python",
   "name": "python",
   "nbconvert_exporter": "python",
   "pygments_lexer": "ipython3",
   "version": "3.9.13"
  }
 },
 "nbformat": 4,
 "nbformat_minor": 5
}
