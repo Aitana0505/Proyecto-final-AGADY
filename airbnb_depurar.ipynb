{
  "cells": [
    {
      "cell_type": "code",
      "execution_count": null,
      "metadata": {
        "id": "KipIHp9W2BqW"
      },
      "outputs": [],
      "source": [
        "import pandas as pd\n",
        "data = pd.read_csv('https://public.opendatasoft.com/api/explore/v2.1/catalog/datasets/airbnb-listings/exports/csv?lang=en&facet=facet(name%3D%22host_verifications%22%2C%20disjunctive%3Dtrue)&facet=facet(name%3D%22amenities%22%2C%20disjunctive%3Dtrue)&facet=facet(name%3D%22features%22%2C%20disjunctive%3Dtrue)&qv1=(Madrid)&timezone=Europe%2FBerlin&use_labels=true&csv_separator=%3B', sep = ';')"
      ]
    },
    {
      "cell_type": "code",
      "execution_count": null,
      "metadata": {
        "id": "RdWYUh30JuvZ"
      },
      "outputs": [],
      "source": [
        "data['Profile Pic'] = data['Features'].str.contains('Host Has Profile Pic')\n",
        "data['Identity Verified'] = data['Features'].str.contains('Host Identity Verified')\n",
        "data['Location Exact'] = data['Features'].str.contains('Is Location Exact')\n",
        "data['Instant Bookable'] = data['Features'].str.contains('Instant Bookable')\n",
        "data['License Required'] = data['Features'].str.contains('Requires License')\n",
        "data['Guest Pic Required'] = data['Features'].str.contains('Require Guest Profile Picture')\n",
        "data['Superhost'] = data['Features'].str.contains('Host Is Superhost')\n",
        "data['Guest Phone Verification'] = data['Features'].str.contains('Require Guest Phone Verification')\n"
      ]
    },
    {
      "cell_type": "code",
      "execution_count": null,
      "metadata": {
        "id": "DgDuc9r1Ojb1",
        "colab": {
          "base_uri": "https://localhost:8080/",
          "height": 423
        },
        "outputId": "a9a5ca5c-3eee-4a79-d3c4-7d1d5b2250e4"
      },
      "outputs": [
        {
          "output_type": "execute_result",
          "data": {
            "text/plain": [
              "      Profile Pic Identity Verified Location Exact Instant Bookable  \\\n",
              "0            True              True          False             True   \n",
              "1            True              True          False             True   \n",
              "2            True              True          False             True   \n",
              "3            True              True           True            False   \n",
              "4            True              True           True            False   \n",
              "...           ...               ...            ...              ...   \n",
              "14775        True              True           True            False   \n",
              "14776        True              True           True             True   \n",
              "14777        True             False          False             True   \n",
              "14778        True              True          False            False   \n",
              "14779        True             False          False             True   \n",
              "\n",
              "      License Required Guest Pic Required Superhost Guest Phone Verification  \n",
              "0                 True              False      True                    False  \n",
              "1                 True              False     False                    False  \n",
              "2                 True              False     False                    False  \n",
              "3                 True              False     False                    False  \n",
              "4                 True              False      True                    False  \n",
              "...                ...                ...       ...                      ...  \n",
              "14775             True              False     False                    False  \n",
              "14776             True              False     False                    False  \n",
              "14777             True              False     False                    False  \n",
              "14778            False              False     False                    False  \n",
              "14779             True              False     False                    False  \n",
              "\n",
              "[14780 rows x 8 columns]"
            ],
            "text/html": [
              "\n",
              "  <div id=\"df-47699ca2-3db0-4f38-87da-b14b7f55312d\">\n",
              "    <div class=\"colab-df-container\">\n",
              "      <div>\n",
              "<style scoped>\n",
              "    .dataframe tbody tr th:only-of-type {\n",
              "        vertical-align: middle;\n",
              "    }\n",
              "\n",
              "    .dataframe tbody tr th {\n",
              "        vertical-align: top;\n",
              "    }\n",
              "\n",
              "    .dataframe thead th {\n",
              "        text-align: right;\n",
              "    }\n",
              "</style>\n",
              "<table border=\"1\" class=\"dataframe\">\n",
              "  <thead>\n",
              "    <tr style=\"text-align: right;\">\n",
              "      <th></th>\n",
              "      <th>Profile Pic</th>\n",
              "      <th>Identity Verified</th>\n",
              "      <th>Location Exact</th>\n",
              "      <th>Instant Bookable</th>\n",
              "      <th>License Required</th>\n",
              "      <th>Guest Pic Required</th>\n",
              "      <th>Superhost</th>\n",
              "      <th>Guest Phone Verification</th>\n",
              "    </tr>\n",
              "  </thead>\n",
              "  <tbody>\n",
              "    <tr>\n",
              "      <th>0</th>\n",
              "      <td>True</td>\n",
              "      <td>True</td>\n",
              "      <td>False</td>\n",
              "      <td>True</td>\n",
              "      <td>True</td>\n",
              "      <td>False</td>\n",
              "      <td>True</td>\n",
              "      <td>False</td>\n",
              "    </tr>\n",
              "    <tr>\n",
              "      <th>1</th>\n",
              "      <td>True</td>\n",
              "      <td>True</td>\n",
              "      <td>False</td>\n",
              "      <td>True</td>\n",
              "      <td>True</td>\n",
              "      <td>False</td>\n",
              "      <td>False</td>\n",
              "      <td>False</td>\n",
              "    </tr>\n",
              "    <tr>\n",
              "      <th>2</th>\n",
              "      <td>True</td>\n",
              "      <td>True</td>\n",
              "      <td>False</td>\n",
              "      <td>True</td>\n",
              "      <td>True</td>\n",
              "      <td>False</td>\n",
              "      <td>False</td>\n",
              "      <td>False</td>\n",
              "    </tr>\n",
              "    <tr>\n",
              "      <th>3</th>\n",
              "      <td>True</td>\n",
              "      <td>True</td>\n",
              "      <td>True</td>\n",
              "      <td>False</td>\n",
              "      <td>True</td>\n",
              "      <td>False</td>\n",
              "      <td>False</td>\n",
              "      <td>False</td>\n",
              "    </tr>\n",
              "    <tr>\n",
              "      <th>4</th>\n",
              "      <td>True</td>\n",
              "      <td>True</td>\n",
              "      <td>True</td>\n",
              "      <td>False</td>\n",
              "      <td>True</td>\n",
              "      <td>False</td>\n",
              "      <td>True</td>\n",
              "      <td>False</td>\n",
              "    </tr>\n",
              "    <tr>\n",
              "      <th>...</th>\n",
              "      <td>...</td>\n",
              "      <td>...</td>\n",
              "      <td>...</td>\n",
              "      <td>...</td>\n",
              "      <td>...</td>\n",
              "      <td>...</td>\n",
              "      <td>...</td>\n",
              "      <td>...</td>\n",
              "    </tr>\n",
              "    <tr>\n",
              "      <th>14775</th>\n",
              "      <td>True</td>\n",
              "      <td>True</td>\n",
              "      <td>True</td>\n",
              "      <td>False</td>\n",
              "      <td>True</td>\n",
              "      <td>False</td>\n",
              "      <td>False</td>\n",
              "      <td>False</td>\n",
              "    </tr>\n",
              "    <tr>\n",
              "      <th>14776</th>\n",
              "      <td>True</td>\n",
              "      <td>True</td>\n",
              "      <td>True</td>\n",
              "      <td>True</td>\n",
              "      <td>True</td>\n",
              "      <td>False</td>\n",
              "      <td>False</td>\n",
              "      <td>False</td>\n",
              "    </tr>\n",
              "    <tr>\n",
              "      <th>14777</th>\n",
              "      <td>True</td>\n",
              "      <td>False</td>\n",
              "      <td>False</td>\n",
              "      <td>True</td>\n",
              "      <td>True</td>\n",
              "      <td>False</td>\n",
              "      <td>False</td>\n",
              "      <td>False</td>\n",
              "    </tr>\n",
              "    <tr>\n",
              "      <th>14778</th>\n",
              "      <td>True</td>\n",
              "      <td>True</td>\n",
              "      <td>False</td>\n",
              "      <td>False</td>\n",
              "      <td>False</td>\n",
              "      <td>False</td>\n",
              "      <td>False</td>\n",
              "      <td>False</td>\n",
              "    </tr>\n",
              "    <tr>\n",
              "      <th>14779</th>\n",
              "      <td>True</td>\n",
              "      <td>False</td>\n",
              "      <td>False</td>\n",
              "      <td>True</td>\n",
              "      <td>True</td>\n",
              "      <td>False</td>\n",
              "      <td>False</td>\n",
              "      <td>False</td>\n",
              "    </tr>\n",
              "  </tbody>\n",
              "</table>\n",
              "<p>14780 rows × 8 columns</p>\n",
              "</div>\n",
              "      <button class=\"colab-df-convert\" onclick=\"convertToInteractive('df-47699ca2-3db0-4f38-87da-b14b7f55312d')\"\n",
              "              title=\"Convert this dataframe to an interactive table.\"\n",
              "              style=\"display:none;\">\n",
              "        \n",
              "  <svg xmlns=\"http://www.w3.org/2000/svg\" height=\"24px\"viewBox=\"0 0 24 24\"\n",
              "       width=\"24px\">\n",
              "    <path d=\"M0 0h24v24H0V0z\" fill=\"none\"/>\n",
              "    <path d=\"M18.56 5.44l.94 2.06.94-2.06 2.06-.94-2.06-.94-.94-2.06-.94 2.06-2.06.94zm-11 1L8.5 8.5l.94-2.06 2.06-.94-2.06-.94L8.5 2.5l-.94 2.06-2.06.94zm10 10l.94 2.06.94-2.06 2.06-.94-2.06-.94-.94-2.06-.94 2.06-2.06.94z\"/><path d=\"M17.41 7.96l-1.37-1.37c-.4-.4-.92-.59-1.43-.59-.52 0-1.04.2-1.43.59L10.3 9.45l-7.72 7.72c-.78.78-.78 2.05 0 2.83L4 21.41c.39.39.9.59 1.41.59.51 0 1.02-.2 1.41-.59l7.78-7.78 2.81-2.81c.8-.78.8-2.07 0-2.86zM5.41 20L4 18.59l7.72-7.72 1.47 1.35L5.41 20z\"/>\n",
              "  </svg>\n",
              "      </button>\n",
              "      \n",
              "  <style>\n",
              "    .colab-df-container {\n",
              "      display:flex;\n",
              "      flex-wrap:wrap;\n",
              "      gap: 12px;\n",
              "    }\n",
              "\n",
              "    .colab-df-convert {\n",
              "      background-color: #E8F0FE;\n",
              "      border: none;\n",
              "      border-radius: 50%;\n",
              "      cursor: pointer;\n",
              "      display: none;\n",
              "      fill: #1967D2;\n",
              "      height: 32px;\n",
              "      padding: 0 0 0 0;\n",
              "      width: 32px;\n",
              "    }\n",
              "\n",
              "    .colab-df-convert:hover {\n",
              "      background-color: #E2EBFA;\n",
              "      box-shadow: 0px 1px 2px rgba(60, 64, 67, 0.3), 0px 1px 3px 1px rgba(60, 64, 67, 0.15);\n",
              "      fill: #174EA6;\n",
              "    }\n",
              "\n",
              "    [theme=dark] .colab-df-convert {\n",
              "      background-color: #3B4455;\n",
              "      fill: #D2E3FC;\n",
              "    }\n",
              "\n",
              "    [theme=dark] .colab-df-convert:hover {\n",
              "      background-color: #434B5C;\n",
              "      box-shadow: 0px 1px 3px 1px rgba(0, 0, 0, 0.15);\n",
              "      filter: drop-shadow(0px 1px 2px rgba(0, 0, 0, 0.3));\n",
              "      fill: #FFFFFF;\n",
              "    }\n",
              "  </style>\n",
              "\n",
              "      <script>\n",
              "        const buttonEl =\n",
              "          document.querySelector('#df-47699ca2-3db0-4f38-87da-b14b7f55312d button.colab-df-convert');\n",
              "        buttonEl.style.display =\n",
              "          google.colab.kernel.accessAllowed ? 'block' : 'none';\n",
              "\n",
              "        async function convertToInteractive(key) {\n",
              "          const element = document.querySelector('#df-47699ca2-3db0-4f38-87da-b14b7f55312d');\n",
              "          const dataTable =\n",
              "            await google.colab.kernel.invokeFunction('convertToInteractive',\n",
              "                                                     [key], {});\n",
              "          if (!dataTable) return;\n",
              "\n",
              "          const docLinkHtml = 'Like what you see? Visit the ' +\n",
              "            '<a target=\"_blank\" href=https://colab.research.google.com/notebooks/data_table.ipynb>data table notebook</a>'\n",
              "            + ' to learn more about interactive tables.';\n",
              "          element.innerHTML = '';\n",
              "          dataTable['output_type'] = 'display_data';\n",
              "          await google.colab.output.renderOutput(dataTable, element);\n",
              "          const docLink = document.createElement('div');\n",
              "          docLink.innerHTML = docLinkHtml;\n",
              "          element.appendChild(docLink);\n",
              "        }\n",
              "      </script>\n",
              "    </div>\n",
              "  </div>\n",
              "  "
            ]
          },
          "metadata": {},
          "execution_count": 28
        }
      ],
      "source": [
        "data.iloc[:, 89:97]"
      ]
    },
    {
      "cell_type": "code",
      "execution_count": null,
      "metadata": {
        "id": "lvlTui66RhhQ",
        "colab": {
          "base_uri": "https://localhost:8080/",
          "height": 681
        },
        "outputId": "129e676f-d68f-4680-8df7-42131f7861f9"
      },
      "outputs": [
        {
          "output_type": "execute_result",
          "data": {
            "text/plain": [
              "         ID                            Listing Url       Scrape ID  \\\n",
              "0  15141125  https://www.airbnb.com/rooms/15141125  20170407214119   \n",
              "1   9470166   https://www.airbnb.com/rooms/9470166  20170407214119   \n",
              "2  17444981  https://www.airbnb.com/rooms/17444981  20170407214119   \n",
              "3   3284565   https://www.airbnb.com/rooms/3284565  20170407214119   \n",
              "4    499911    https://www.airbnb.com/rooms/499911  20170407214119   \n",
              "\n",
              "  Last Scraped                                 Name  \\\n",
              "0   2017-04-08           Panoramic charming studio!   \n",
              "1   2017-04-08  Comfortable penthouse in the center   \n",
              "2   2017-04-08         Cosy Apartment SOL/LA LATINA   \n",
              "3   2017-04-08        Alquiler Estudio Nuevo Madrid   \n",
              "4   2017-04-08  2 bedroom apartment downtown Madrid   \n",
              "\n",
              "                                             Summary  \\\n",
              "0  Charming bright and cosy studio in \"El Rastro\"...   \n",
              "1  In the center, recently remodeled, comfortable...   \n",
              "2  Nice apartment near Sol and La Latina. Perfect...   \n",
              "3  Alquilo estudio en el centro de Madrid , total...   \n",
              "4                                                NaN   \n",
              "\n",
              "                                               Space  \\\n",
              "0  It's a bright and cosy studio located in the h...   \n",
              "1  Quiet and comfortable space where you can rela...   \n",
              "2  Is a really cosy apartment with the best locat...   \n",
              "3                                                NaN   \n",
              "4  Bright and airy apartment in Central Madrid re...   \n",
              "\n",
              "                                         Description Experiences Offered  \\\n",
              "0  Charming bright and cosy studio in \"El Rastro\"...                none   \n",
              "1  In the center, recently remodeled, comfortable...                none   \n",
              "2  Nice apartment near Sol and La Latina. Perfect...                none   \n",
              "3  Alquilo estudio en el centro de Madrid , total...                none   \n",
              "4  Bright and airy apartment in Central Madrid re...                none   \n",
              "\n",
              "                               Neighborhood Overview  ...  \\\n",
              "0  The studio is located in the remarkable neighb...  ...   \n",
              "1  It belongs to the district center of Madrid wh...  ...   \n",
              "2  La Latina is well known by El Rastro, the most...  ...   \n",
              "3                                                NaN  ...   \n",
              "4                                                NaN  ...   \n",
              "\n",
              "                               Geolocation  \\\n",
              "0   40.40745268477803, -3.7079954754432634   \n",
              "1    40.40831556101927, -3.705006385704201   \n",
              "2  40.413722014584295, -3.7068231186536718   \n",
              "3  40.411263372718054, -3.6973054373712886   \n",
              "4    40.41255625665078, -3.701155364799422   \n",
              "\n",
              "                                            Features Profile Pic  \\\n",
              "0  Host Is Superhost,Host Has Profile Pic,Host Id...        True   \n",
              "1  Host Has Profile Pic,Host Identity Verified,Re...        True   \n",
              "2  Host Has Profile Pic,Host Identity Verified,Re...        True   \n",
              "3  Host Has Profile Pic,Host Identity Verified,Is...        True   \n",
              "4  Host Is Superhost,Host Has Profile Pic,Host Id...        True   \n",
              "\n",
              "  Identity Verified Location Exact Instant Bookable License Required  \\\n",
              "0              True          False             True             True   \n",
              "1              True          False             True             True   \n",
              "2              True          False             True             True   \n",
              "3              True           True            False             True   \n",
              "4              True           True            False             True   \n",
              "\n",
              "  Guest Pic Required Superhost  Guest Phone Verification  \n",
              "0              False      True                     False  \n",
              "1              False     False                     False  \n",
              "2              False     False                     False  \n",
              "3              False     False                     False  \n",
              "4              False      True                     False  \n",
              "\n",
              "[5 rows x 97 columns]"
            ],
            "text/html": [
              "\n",
              "  <div id=\"df-de9d37d3-c00b-43ce-9ea0-e998d4ea5428\">\n",
              "    <div class=\"colab-df-container\">\n",
              "      <div>\n",
              "<style scoped>\n",
              "    .dataframe tbody tr th:only-of-type {\n",
              "        vertical-align: middle;\n",
              "    }\n",
              "\n",
              "    .dataframe tbody tr th {\n",
              "        vertical-align: top;\n",
              "    }\n",
              "\n",
              "    .dataframe thead th {\n",
              "        text-align: right;\n",
              "    }\n",
              "</style>\n",
              "<table border=\"1\" class=\"dataframe\">\n",
              "  <thead>\n",
              "    <tr style=\"text-align: right;\">\n",
              "      <th></th>\n",
              "      <th>ID</th>\n",
              "      <th>Listing Url</th>\n",
              "      <th>Scrape ID</th>\n",
              "      <th>Last Scraped</th>\n",
              "      <th>Name</th>\n",
              "      <th>Summary</th>\n",
              "      <th>Space</th>\n",
              "      <th>Description</th>\n",
              "      <th>Experiences Offered</th>\n",
              "      <th>Neighborhood Overview</th>\n",
              "      <th>...</th>\n",
              "      <th>Geolocation</th>\n",
              "      <th>Features</th>\n",
              "      <th>Profile Pic</th>\n",
              "      <th>Identity Verified</th>\n",
              "      <th>Location Exact</th>\n",
              "      <th>Instant Bookable</th>\n",
              "      <th>License Required</th>\n",
              "      <th>Guest Pic Required</th>\n",
              "      <th>Superhost</th>\n",
              "      <th>Guest Phone Verification</th>\n",
              "    </tr>\n",
              "  </thead>\n",
              "  <tbody>\n",
              "    <tr>\n",
              "      <th>0</th>\n",
              "      <td>15141125</td>\n",
              "      <td>https://www.airbnb.com/rooms/15141125</td>\n",
              "      <td>20170407214119</td>\n",
              "      <td>2017-04-08</td>\n",
              "      <td>Panoramic charming studio!</td>\n",
              "      <td>Charming bright and cosy studio in \"El Rastro\"...</td>\n",
              "      <td>It's a bright and cosy studio located in the h...</td>\n",
              "      <td>Charming bright and cosy studio in \"El Rastro\"...</td>\n",
              "      <td>none</td>\n",
              "      <td>The studio is located in the remarkable neighb...</td>\n",
              "      <td>...</td>\n",
              "      <td>40.40745268477803, -3.7079954754432634</td>\n",
              "      <td>Host Is Superhost,Host Has Profile Pic,Host Id...</td>\n",
              "      <td>True</td>\n",
              "      <td>True</td>\n",
              "      <td>False</td>\n",
              "      <td>True</td>\n",
              "      <td>True</td>\n",
              "      <td>False</td>\n",
              "      <td>True</td>\n",
              "      <td>False</td>\n",
              "    </tr>\n",
              "    <tr>\n",
              "      <th>1</th>\n",
              "      <td>9470166</td>\n",
              "      <td>https://www.airbnb.com/rooms/9470166</td>\n",
              "      <td>20170407214119</td>\n",
              "      <td>2017-04-08</td>\n",
              "      <td>Comfortable penthouse in the center</td>\n",
              "      <td>In the center, recently remodeled, comfortable...</td>\n",
              "      <td>Quiet and comfortable space where you can rela...</td>\n",
              "      <td>In the center, recently remodeled, comfortable...</td>\n",
              "      <td>none</td>\n",
              "      <td>It belongs to the district center of Madrid wh...</td>\n",
              "      <td>...</td>\n",
              "      <td>40.40831556101927, -3.705006385704201</td>\n",
              "      <td>Host Has Profile Pic,Host Identity Verified,Re...</td>\n",
              "      <td>True</td>\n",
              "      <td>True</td>\n",
              "      <td>False</td>\n",
              "      <td>True</td>\n",
              "      <td>True</td>\n",
              "      <td>False</td>\n",
              "      <td>False</td>\n",
              "      <td>False</td>\n",
              "    </tr>\n",
              "    <tr>\n",
              "      <th>2</th>\n",
              "      <td>17444981</td>\n",
              "      <td>https://www.airbnb.com/rooms/17444981</td>\n",
              "      <td>20170407214119</td>\n",
              "      <td>2017-04-08</td>\n",
              "      <td>Cosy Apartment SOL/LA LATINA</td>\n",
              "      <td>Nice apartment near Sol and La Latina. Perfect...</td>\n",
              "      <td>Is a really cosy apartment with the best locat...</td>\n",
              "      <td>Nice apartment near Sol and La Latina. Perfect...</td>\n",
              "      <td>none</td>\n",
              "      <td>La Latina is well known by El Rastro, the most...</td>\n",
              "      <td>...</td>\n",
              "      <td>40.413722014584295, -3.7068231186536718</td>\n",
              "      <td>Host Has Profile Pic,Host Identity Verified,Re...</td>\n",
              "      <td>True</td>\n",
              "      <td>True</td>\n",
              "      <td>False</td>\n",
              "      <td>True</td>\n",
              "      <td>True</td>\n",
              "      <td>False</td>\n",
              "      <td>False</td>\n",
              "      <td>False</td>\n",
              "    </tr>\n",
              "    <tr>\n",
              "      <th>3</th>\n",
              "      <td>3284565</td>\n",
              "      <td>https://www.airbnb.com/rooms/3284565</td>\n",
              "      <td>20170407214119</td>\n",
              "      <td>2017-04-08</td>\n",
              "      <td>Alquiler Estudio Nuevo Madrid</td>\n",
              "      <td>Alquilo estudio en el centro de Madrid , total...</td>\n",
              "      <td>NaN</td>\n",
              "      <td>Alquilo estudio en el centro de Madrid , total...</td>\n",
              "      <td>none</td>\n",
              "      <td>NaN</td>\n",
              "      <td>...</td>\n",
              "      <td>40.411263372718054, -3.6973054373712886</td>\n",
              "      <td>Host Has Profile Pic,Host Identity Verified,Is...</td>\n",
              "      <td>True</td>\n",
              "      <td>True</td>\n",
              "      <td>True</td>\n",
              "      <td>False</td>\n",
              "      <td>True</td>\n",
              "      <td>False</td>\n",
              "      <td>False</td>\n",
              "      <td>False</td>\n",
              "    </tr>\n",
              "    <tr>\n",
              "      <th>4</th>\n",
              "      <td>499911</td>\n",
              "      <td>https://www.airbnb.com/rooms/499911</td>\n",
              "      <td>20170407214119</td>\n",
              "      <td>2017-04-08</td>\n",
              "      <td>2 bedroom apartment downtown Madrid</td>\n",
              "      <td>NaN</td>\n",
              "      <td>Bright and airy apartment in Central Madrid re...</td>\n",
              "      <td>Bright and airy apartment in Central Madrid re...</td>\n",
              "      <td>none</td>\n",
              "      <td>NaN</td>\n",
              "      <td>...</td>\n",
              "      <td>40.41255625665078, -3.701155364799422</td>\n",
              "      <td>Host Is Superhost,Host Has Profile Pic,Host Id...</td>\n",
              "      <td>True</td>\n",
              "      <td>True</td>\n",
              "      <td>True</td>\n",
              "      <td>False</td>\n",
              "      <td>True</td>\n",
              "      <td>False</td>\n",
              "      <td>True</td>\n",
              "      <td>False</td>\n",
              "    </tr>\n",
              "  </tbody>\n",
              "</table>\n",
              "<p>5 rows × 97 columns</p>\n",
              "</div>\n",
              "      <button class=\"colab-df-convert\" onclick=\"convertToInteractive('df-de9d37d3-c00b-43ce-9ea0-e998d4ea5428')\"\n",
              "              title=\"Convert this dataframe to an interactive table.\"\n",
              "              style=\"display:none;\">\n",
              "        \n",
              "  <svg xmlns=\"http://www.w3.org/2000/svg\" height=\"24px\"viewBox=\"0 0 24 24\"\n",
              "       width=\"24px\">\n",
              "    <path d=\"M0 0h24v24H0V0z\" fill=\"none\"/>\n",
              "    <path d=\"M18.56 5.44l.94 2.06.94-2.06 2.06-.94-2.06-.94-.94-2.06-.94 2.06-2.06.94zm-11 1L8.5 8.5l.94-2.06 2.06-.94-2.06-.94L8.5 2.5l-.94 2.06-2.06.94zm10 10l.94 2.06.94-2.06 2.06-.94-2.06-.94-.94-2.06-.94 2.06-2.06.94z\"/><path d=\"M17.41 7.96l-1.37-1.37c-.4-.4-.92-.59-1.43-.59-.52 0-1.04.2-1.43.59L10.3 9.45l-7.72 7.72c-.78.78-.78 2.05 0 2.83L4 21.41c.39.39.9.59 1.41.59.51 0 1.02-.2 1.41-.59l7.78-7.78 2.81-2.81c.8-.78.8-2.07 0-2.86zM5.41 20L4 18.59l7.72-7.72 1.47 1.35L5.41 20z\"/>\n",
              "  </svg>\n",
              "      </button>\n",
              "      \n",
              "  <style>\n",
              "    .colab-df-container {\n",
              "      display:flex;\n",
              "      flex-wrap:wrap;\n",
              "      gap: 12px;\n",
              "    }\n",
              "\n",
              "    .colab-df-convert {\n",
              "      background-color: #E8F0FE;\n",
              "      border: none;\n",
              "      border-radius: 50%;\n",
              "      cursor: pointer;\n",
              "      display: none;\n",
              "      fill: #1967D2;\n",
              "      height: 32px;\n",
              "      padding: 0 0 0 0;\n",
              "      width: 32px;\n",
              "    }\n",
              "\n",
              "    .colab-df-convert:hover {\n",
              "      background-color: #E2EBFA;\n",
              "      box-shadow: 0px 1px 2px rgba(60, 64, 67, 0.3), 0px 1px 3px 1px rgba(60, 64, 67, 0.15);\n",
              "      fill: #174EA6;\n",
              "    }\n",
              "\n",
              "    [theme=dark] .colab-df-convert {\n",
              "      background-color: #3B4455;\n",
              "      fill: #D2E3FC;\n",
              "    }\n",
              "\n",
              "    [theme=dark] .colab-df-convert:hover {\n",
              "      background-color: #434B5C;\n",
              "      box-shadow: 0px 1px 3px 1px rgba(0, 0, 0, 0.15);\n",
              "      filter: drop-shadow(0px 1px 2px rgba(0, 0, 0, 0.3));\n",
              "      fill: #FFFFFF;\n",
              "    }\n",
              "  </style>\n",
              "\n",
              "      <script>\n",
              "        const buttonEl =\n",
              "          document.querySelector('#df-de9d37d3-c00b-43ce-9ea0-e998d4ea5428 button.colab-df-convert');\n",
              "        buttonEl.style.display =\n",
              "          google.colab.kernel.accessAllowed ? 'block' : 'none';\n",
              "\n",
              "        async function convertToInteractive(key) {\n",
              "          const element = document.querySelector('#df-de9d37d3-c00b-43ce-9ea0-e998d4ea5428');\n",
              "          const dataTable =\n",
              "            await google.colab.kernel.invokeFunction('convertToInteractive',\n",
              "                                                     [key], {});\n",
              "          if (!dataTable) return;\n",
              "\n",
              "          const docLinkHtml = 'Like what you see? Visit the ' +\n",
              "            '<a target=\"_blank\" href=https://colab.research.google.com/notebooks/data_table.ipynb>data table notebook</a>'\n",
              "            + ' to learn more about interactive tables.';\n",
              "          element.innerHTML = '';\n",
              "          dataTable['output_type'] = 'display_data';\n",
              "          await google.colab.output.renderOutput(dataTable, element);\n",
              "          const docLink = document.createElement('div');\n",
              "          docLink.innerHTML = docLinkHtml;\n",
              "          element.appendChild(docLink);\n",
              "        }\n",
              "      </script>\n",
              "    </div>\n",
              "  </div>\n",
              "  "
            ]
          },
          "metadata": {},
          "execution_count": 29
        }
      ],
      "source": [
        "data.head()"
      ]
    },
    {
      "cell_type": "code",
      "execution_count": null,
      "metadata": {
        "id": "wMTPtngHZUlz"
      },
      "outputs": [],
      "source": [
        "data.columns=[col.lower().replace(\" \",\"_\") for col in data.columns]"
      ]
    },
    {
      "cell_type": "code",
      "execution_count": null,
      "metadata": {
        "id": "34x0Bf1KR1d0"
      },
      "outputs": [],
      "source": [
        "data = data.drop(columns = ['listing_url','summary','thumbnail_url','host_total_listings_count', 'medium_url','host_url', 'experiences_offered', 'host_response_time', 'host_response_rate', 'host_acceptance_rate', 'host_thumbnail_url', 'host_picture_url','access', 'interaction', 'house_rules', 'host_id', 'host_name', 'host_location', 'host_about', \n",
        "'host_listings_count', 'host_verifications', 'neighbourhood', 'city', 'state',  'market', 'smart_location', 'country_code', 'country', \n",
        "'accommodates', 'bathrooms', 'bedrooms', 'beds', 'amenities', 'weekly_price', 'monthly_price', 'guests_included', 'extra_people', 'minimum_nights', \n",
        "'maximum_nights', 'calendar_updated', 'has_availability', 'availability_30', 'availability_60', 'availability_90', 'calendar_last_scraped', 'first_review', \n",
        "'last_review',  'review_scores_accuracy', 'review_scores_cleanliness', 'review_scores_checkin', 'review_scores_communication', 'review_scores_location', \n",
        "'license', 'jurisdiction_names', 'features', 'scrape_id', 'last_scraped', 'name', 'space', 'description', 'notes', 'transit', 'street', 'review_scores_rating', 'neighborhood_overview', 'reviews_per_month', 'xl_picture_url'])"
      ]
    },
    {
      "cell_type": "code",
      "execution_count": null,
      "metadata": {
        "colab": {
          "base_uri": "https://localhost:8080/"
        },
        "id": "Hr9ezX1gUQ2U",
        "outputId": "181705ae-9b40-403a-e65b-d54e9cdaf2f4"
      },
      "outputs": [
        {
          "output_type": "execute_result",
          "data": {
            "text/plain": [
              "(14780, 31)"
            ]
          },
          "metadata": {},
          "execution_count": 32
        }
      ],
      "source": [
        "data.shape"
      ]
    },
    {
      "cell_type": "code",
      "execution_count": null,
      "metadata": {
        "id": "A8shyd9EYygB",
        "colab": {
          "base_uri": "https://localhost:8080/"
        },
        "outputId": "00e93d6f-2563-45dc-b256-a2c7f96f542e"
      },
      "outputs": [
        {
          "output_type": "execute_result",
          "data": {
            "text/plain": [
              "Index(['id', 'picture_url', 'host_since', 'host_neighbourhood',\n",
              "       'neighbourhood_cleansed', 'neighbourhood_group_cleansed', 'zipcode',\n",
              "       'latitude', 'longitude', 'property_type', 'room_type', 'bed_type',\n",
              "       'square_feet', 'price', 'security_deposit', 'cleaning_fee',\n",
              "       'availability_365', 'number_of_reviews', 'review_scores_value',\n",
              "       'cancellation_policy', 'calculated_host_listings_count', 'geolocation',\n",
              "       'profile_pic', 'identity_verified', 'location_exact',\n",
              "       'instant_bookable', 'license_required', 'guest_pic_required',\n",
              "       'superhost', 'guest_phone_verification'],\n",
              "      dtype='object')"
            ]
          },
          "metadata": {},
          "execution_count": 10
        }
      ],
      "source": [
        "data.columns"
      ]
    },
    {
      "cell_type": "markdown",
      "metadata": {
        "id": "YBbSISGFwg-Q"
      },
      "source": [
        "**Aitana**: Saco con df.info() los null, tipo y numero de nulls de cada columna."
      ]
    },
    {
      "cell_type": "code",
      "source": [
        "df.isna().sum().sort_values(ascending = False)"
      ],
      "metadata": {
        "id": "QQoqWJVMGy-3"
      },
      "execution_count": null,
      "outputs": []
    },
    {
      "cell_type": "code",
      "execution_count": null,
      "metadata": {
        "colab": {
          "base_uri": "https://localhost:8080/"
        },
        "id": "Oo8P0op9vsc3",
        "outputId": "bc811457-a831-4e79-a846-367878a3a951"
      },
      "outputs": [
        {
          "output_type": "stream",
          "name": "stdout",
          "text": [
            "<class 'pandas.core.frame.DataFrame'>\n",
            "RangeIndex: 14780 entries, 0 to 14779\n",
            "Data columns (total 97 columns):\n",
            " #   Column                          Non-Null Count  Dtype  \n",
            "---  ------                          --------------  -----  \n",
            " 0   id                              14780 non-null  int64  \n",
            " 1   listing_url                     14780 non-null  object \n",
            " 2   scrape_id                       14780 non-null  int64  \n",
            " 3   last_scraped                    14780 non-null  object \n",
            " 4   name                            14779 non-null  object \n",
            " 5   summary                         14189 non-null  object \n",
            " 6   space                           10888 non-null  object \n",
            " 7   description                     14774 non-null  object \n",
            " 8   experiences_offered             14780 non-null  object \n",
            " 9   neighborhood_overview           9134 non-null   object \n",
            " 10  notes                           5644 non-null   object \n",
            " 11  transit                         9066 non-null   object \n",
            " 12  access                          8318 non-null   object \n",
            " 13  interaction                     8228 non-null   object \n",
            " 14  house_rules                     9619 non-null   object \n",
            " 15  thumbnail_url                   11960 non-null  object \n",
            " 16  medium_url                      11960 non-null  object \n",
            " 17  picture_url                     14751 non-null  object \n",
            " 18  xl_picture_url                  11960 non-null  object \n",
            " 19  host_id                         14780 non-null  int64  \n",
            " 20  host_url                        14780 non-null  object \n",
            " 21  host_name                       14777 non-null  object \n",
            " 22  host_since                      14777 non-null  object \n",
            " 23  host_location                   14737 non-null  object \n",
            " 24  host_about                      9539 non-null   object \n",
            " 25  host_response_time              12881 non-null  object \n",
            " 26  host_response_rate              12881 non-null  float64\n",
            " 27  host_acceptance_rate            39 non-null     object \n",
            " 28  host_thumbnail_url              14777 non-null  object \n",
            " 29  host_picture_url                14777 non-null  object \n",
            " 30  host_neighbourhood              10904 non-null  object \n",
            " 31  host_listings_count             14777 non-null  float64\n",
            " 32  host_total_listings_count       14777 non-null  float64\n",
            " 33  host_verifications              14774 non-null  object \n",
            " 34  street                          14780 non-null  object \n",
            " 35  neighbourhood                   9551 non-null   object \n",
            " 36  neighbourhood_cleansed          14780 non-null  object \n",
            " 37  neighbourhood_group_cleansed    13760 non-null  object \n",
            " 38  city                            14774 non-null  object \n",
            " 39  state                           14636 non-null  object \n",
            " 40  zipcode                         14274 non-null  object \n",
            " 41  market                          14723 non-null  object \n",
            " 42  smart_location                  14780 non-null  object \n",
            " 43  country_code                    14780 non-null  object \n",
            " 44  country                         14779 non-null  object \n",
            " 45  latitude                        14780 non-null  float64\n",
            " 46  longitude                       14780 non-null  float64\n",
            " 47  property_type                   14780 non-null  object \n",
            " 48  room_type                       14780 non-null  object \n",
            " 49  accommodates                    14780 non-null  int64  \n",
            " 50  bathrooms                       14725 non-null  float64\n",
            " 51  bedrooms                        14755 non-null  float64\n",
            " 52  beds                            14731 non-null  float64\n",
            " 53  bed_type                        14780 non-null  object \n",
            " 54  amenities                       14610 non-null  object \n",
            " 55  square_feet                     598 non-null    float64\n",
            " 56  price                           14763 non-null  float64\n",
            " 57  weekly_price                    3590 non-null   float64\n",
            " 58  monthly_price                   3561 non-null   float64\n",
            " 59  security_deposit                6256 non-null   float64\n",
            " 60  cleaning_fee                    8687 non-null   float64\n",
            " 61  guests_included                 14780 non-null  int64  \n",
            " 62  extra_people                    14780 non-null  int64  \n",
            " 63  minimum_nights                  14780 non-null  int64  \n",
            " 64  maximum_nights                  14780 non-null  int64  \n",
            " 65  calendar_updated                14780 non-null  object \n",
            " 66  has_availability                12 non-null     object \n",
            " 67  availability_30                 14780 non-null  int64  \n",
            " 68  availability_60                 14780 non-null  int64  \n",
            " 69  availability_90                 14780 non-null  int64  \n",
            " 70  availability_365                14780 non-null  int64  \n",
            " 71  calendar_last_scraped           14780 non-null  object \n",
            " 72  number_of_reviews               14780 non-null  int64  \n",
            " 73  first_review                    11618 non-null  object \n",
            " 74  last_review                     11617 non-null  object \n",
            " 75  review_scores_rating            11476 non-null  float64\n",
            " 76  review_scores_accuracy          11454 non-null  float64\n",
            " 77  review_scores_cleanliness       11460 non-null  float64\n",
            " 78  review_scores_checkin           11443 non-null  float64\n",
            " 79  review_scores_communication     11460 non-null  float64\n",
            " 80  review_scores_location          11440 non-null  float64\n",
            " 81  review_scores_value             11439 non-null  float64\n",
            " 82  license                         349 non-null    object \n",
            " 83  jurisdiction_names              227 non-null    object \n",
            " 84  cancellation_policy             14780 non-null  object \n",
            " 85  calculated_host_listings_count  14776 non-null  float64\n",
            " 86  reviews_per_month               11618 non-null  float64\n",
            " 87  geolocation                     14780 non-null  object \n",
            " 88  features                        14779 non-null  object \n",
            " 89  profile_pic                     14779 non-null  object \n",
            " 90  identity_verified               14779 non-null  object \n",
            " 91  location_exact                  14779 non-null  object \n",
            " 92  instant_bookable                14779 non-null  object \n",
            " 93  license_required                14779 non-null  object \n",
            " 94  guest_pic_required              14779 non-null  object \n",
            " 95  superhost                       14779 non-null  object \n",
            " 96  guest_phone_verification        14779 non-null  object \n",
            "dtypes: float64(23), int64(13), object(61)\n",
            "memory usage: 10.9+ MB\n"
          ]
        }
      ],
      "source": [
        "data.info()"
      ]
    },
    {
      "cell_type": "markdown",
      "metadata": {
        "id": "1wQ9Qa6TWg62"
      },
      "source": [
        "A continuación filtro por zipcode solo quedandome por los que empizan por 28 que serían los de Madrid \n"
      ]
    },
    {
      "cell_type": "code",
      "execution_count": null,
      "metadata": {
        "id": "tGR2GoRvsjRg",
        "colab": {
          "base_uri": "https://localhost:8080/",
          "height": 661
        },
        "outputId": "0861093c-9946-4dc7-fbd1-945defdaca3f"
      },
      "outputs": [
        {
          "output_type": "execute_result",
          "data": {
            "text/plain": [
              "             id                                        picture_url  \\\n",
              "0      15141125  https://public.opendatasoft.com/api/explore/v2...   \n",
              "1       9470166  https://public.opendatasoft.com/api/explore/v2...   \n",
              "2      17444981  https://public.opendatasoft.com/api/explore/v2...   \n",
              "3       3284565  https://public.opendatasoft.com/api/explore/v2...   \n",
              "4        499911  https://public.opendatasoft.com/api/explore/v2...   \n",
              "...         ...                                                ...   \n",
              "14766   2847041  https://public.opendatasoft.com/api/explore/v2...   \n",
              "14767    684744  https://public.opendatasoft.com/api/explore/v2...   \n",
              "14768  14770511  https://public.opendatasoft.com/api/explore/v2...   \n",
              "14769   6605890  https://public.opendatasoft.com/api/explore/v2...   \n",
              "14770  12272825  https://public.opendatasoft.com/api/explore/v2...   \n",
              "\n",
              "       host_since host_neighbourhood neighbourhood_cleansed  \\\n",
              "0      2016-09-20                NaN            Embajadores   \n",
              "1      2013-11-08          Hortaleza            Embajadores   \n",
              "2      2017-02-25                NaN            Embajadores   \n",
              "3      2012-03-09        Embajadores            Embajadores   \n",
              "4      2012-05-26        Embajadores            Embajadores   \n",
              "...           ...                ...                    ...   \n",
              "14766  2010-05-25             Cortes                 Cortes   \n",
              "14767  2012-02-08             Cortes                 Cortes   \n",
              "14768  2016-08-27             Cortes                 Cortes   \n",
              "14769  2015-03-01             Cortes                 Cortes   \n",
              "14770  2015-09-15            Palacio                 Cortes   \n",
              "\n",
              "      neighbourhood_group_cleansed zipcode   latitude  longitude  \\\n",
              "0                           Centro   28005  40.407453  -3.707995   \n",
              "1                           Centro   28012  40.408316  -3.705006   \n",
              "2                           Centro   28012  40.413722  -3.706823   \n",
              "3                           Centro   28012  40.411263  -3.697305   \n",
              "4                           Centro   28012  40.412556  -3.701155   \n",
              "...                            ...     ...        ...        ...   \n",
              "14766                       Centro   28014  40.411334  -3.694809   \n",
              "14767                       Centro   28014  40.412930  -3.695167   \n",
              "14768                       Centro   28014  40.414647  -3.697372   \n",
              "14769                       Centro   28014  40.414122  -3.697248   \n",
              "14770                       Centro   28012  40.414111  -3.701141   \n",
              "\n",
              "      property_type  ... calculated_host_listings_count  \\\n",
              "0              Loft  ...                            2.0   \n",
              "1         Apartment  ...                           13.0   \n",
              "2         Apartment  ...                            1.0   \n",
              "3         Apartment  ...                            3.0   \n",
              "4         Apartment  ...                            1.0   \n",
              "...             ...  ...                            ...   \n",
              "14766     Apartment  ...                            1.0   \n",
              "14767     Apartment  ...                            2.0   \n",
              "14768     Apartment  ...                            2.0   \n",
              "14769     Apartment  ...                            4.0   \n",
              "14770     Apartment  ...                            7.0   \n",
              "\n",
              "                                   geolocation  profile_pic  \\\n",
              "0       40.40745268477803, -3.7079954754432634         True   \n",
              "1        40.40831556101927, -3.705006385704201         True   \n",
              "2      40.413722014584295, -3.7068231186536718         True   \n",
              "3      40.411263372718054, -3.6973054373712886         True   \n",
              "4        40.41255625665078, -3.701155364799422         True   \n",
              "...                                        ...          ...   \n",
              "14766     40.4113336999166, -3.694808895278765         True   \n",
              "14767    40.41293036599803, -3.695167149872764         True   \n",
              "14768     40.41464666535238, -3.69737219529325         True   \n",
              "14769    40.41412238545284, -3.697248267268714         True   \n",
              "14770   40.41411110741996, -3.7011408371549077         True   \n",
              "\n",
              "       identity_verified  location_exact  instant_bookable  license_required  \\\n",
              "0                   True           False              True              True   \n",
              "1                   True           False              True              True   \n",
              "2                   True           False              True              True   \n",
              "3                   True            True             False              True   \n",
              "4                   True            True             False              True   \n",
              "...                  ...             ...               ...               ...   \n",
              "14766              False            True             False              True   \n",
              "14767               True            True              True              True   \n",
              "14768              False           False             False              True   \n",
              "14769               True           False              True              True   \n",
              "14770               True           False              True              True   \n",
              "\n",
              "       guest_pic_required  superhost guest_phone_verification  \n",
              "0                   False       True                    False  \n",
              "1                   False      False                    False  \n",
              "2                   False      False                    False  \n",
              "3                   False      False                    False  \n",
              "4                   False       True                    False  \n",
              "...                   ...        ...                      ...  \n",
              "14766               False      False                    False  \n",
              "14767               False       True                    False  \n",
              "14768               False      False                    False  \n",
              "14769               False      False                    False  \n",
              "14770               False      False                    False  \n",
              "\n",
              "[12876 rows x 30 columns]"
            ],
            "text/html": [
              "\n",
              "  <div id=\"df-09e1260a-e0c2-46f9-9583-e389370cf5a5\">\n",
              "    <div class=\"colab-df-container\">\n",
              "      <div>\n",
              "<style scoped>\n",
              "    .dataframe tbody tr th:only-of-type {\n",
              "        vertical-align: middle;\n",
              "    }\n",
              "\n",
              "    .dataframe tbody tr th {\n",
              "        vertical-align: top;\n",
              "    }\n",
              "\n",
              "    .dataframe thead th {\n",
              "        text-align: right;\n",
              "    }\n",
              "</style>\n",
              "<table border=\"1\" class=\"dataframe\">\n",
              "  <thead>\n",
              "    <tr style=\"text-align: right;\">\n",
              "      <th></th>\n",
              "      <th>id</th>\n",
              "      <th>picture_url</th>\n",
              "      <th>host_since</th>\n",
              "      <th>host_neighbourhood</th>\n",
              "      <th>neighbourhood_cleansed</th>\n",
              "      <th>neighbourhood_group_cleansed</th>\n",
              "      <th>zipcode</th>\n",
              "      <th>latitude</th>\n",
              "      <th>longitude</th>\n",
              "      <th>property_type</th>\n",
              "      <th>...</th>\n",
              "      <th>calculated_host_listings_count</th>\n",
              "      <th>geolocation</th>\n",
              "      <th>profile_pic</th>\n",
              "      <th>identity_verified</th>\n",
              "      <th>location_exact</th>\n",
              "      <th>instant_bookable</th>\n",
              "      <th>license_required</th>\n",
              "      <th>guest_pic_required</th>\n",
              "      <th>superhost</th>\n",
              "      <th>guest_phone_verification</th>\n",
              "    </tr>\n",
              "  </thead>\n",
              "  <tbody>\n",
              "    <tr>\n",
              "      <th>0</th>\n",
              "      <td>15141125</td>\n",
              "      <td>https://public.opendatasoft.com/api/explore/v2...</td>\n",
              "      <td>2016-09-20</td>\n",
              "      <td>NaN</td>\n",
              "      <td>Embajadores</td>\n",
              "      <td>Centro</td>\n",
              "      <td>28005</td>\n",
              "      <td>40.407453</td>\n",
              "      <td>-3.707995</td>\n",
              "      <td>Loft</td>\n",
              "      <td>...</td>\n",
              "      <td>2.0</td>\n",
              "      <td>40.40745268477803, -3.7079954754432634</td>\n",
              "      <td>True</td>\n",
              "      <td>True</td>\n",
              "      <td>False</td>\n",
              "      <td>True</td>\n",
              "      <td>True</td>\n",
              "      <td>False</td>\n",
              "      <td>True</td>\n",
              "      <td>False</td>\n",
              "    </tr>\n",
              "    <tr>\n",
              "      <th>1</th>\n",
              "      <td>9470166</td>\n",
              "      <td>https://public.opendatasoft.com/api/explore/v2...</td>\n",
              "      <td>2013-11-08</td>\n",
              "      <td>Hortaleza</td>\n",
              "      <td>Embajadores</td>\n",
              "      <td>Centro</td>\n",
              "      <td>28012</td>\n",
              "      <td>40.408316</td>\n",
              "      <td>-3.705006</td>\n",
              "      <td>Apartment</td>\n",
              "      <td>...</td>\n",
              "      <td>13.0</td>\n",
              "      <td>40.40831556101927, -3.705006385704201</td>\n",
              "      <td>True</td>\n",
              "      <td>True</td>\n",
              "      <td>False</td>\n",
              "      <td>True</td>\n",
              "      <td>True</td>\n",
              "      <td>False</td>\n",
              "      <td>False</td>\n",
              "      <td>False</td>\n",
              "    </tr>\n",
              "    <tr>\n",
              "      <th>2</th>\n",
              "      <td>17444981</td>\n",
              "      <td>https://public.opendatasoft.com/api/explore/v2...</td>\n",
              "      <td>2017-02-25</td>\n",
              "      <td>NaN</td>\n",
              "      <td>Embajadores</td>\n",
              "      <td>Centro</td>\n",
              "      <td>28012</td>\n",
              "      <td>40.413722</td>\n",
              "      <td>-3.706823</td>\n",
              "      <td>Apartment</td>\n",
              "      <td>...</td>\n",
              "      <td>1.0</td>\n",
              "      <td>40.413722014584295, -3.7068231186536718</td>\n",
              "      <td>True</td>\n",
              "      <td>True</td>\n",
              "      <td>False</td>\n",
              "      <td>True</td>\n",
              "      <td>True</td>\n",
              "      <td>False</td>\n",
              "      <td>False</td>\n",
              "      <td>False</td>\n",
              "    </tr>\n",
              "    <tr>\n",
              "      <th>3</th>\n",
              "      <td>3284565</td>\n",
              "      <td>https://public.opendatasoft.com/api/explore/v2...</td>\n",
              "      <td>2012-03-09</td>\n",
              "      <td>Embajadores</td>\n",
              "      <td>Embajadores</td>\n",
              "      <td>Centro</td>\n",
              "      <td>28012</td>\n",
              "      <td>40.411263</td>\n",
              "      <td>-3.697305</td>\n",
              "      <td>Apartment</td>\n",
              "      <td>...</td>\n",
              "      <td>3.0</td>\n",
              "      <td>40.411263372718054, -3.6973054373712886</td>\n",
              "      <td>True</td>\n",
              "      <td>True</td>\n",
              "      <td>True</td>\n",
              "      <td>False</td>\n",
              "      <td>True</td>\n",
              "      <td>False</td>\n",
              "      <td>False</td>\n",
              "      <td>False</td>\n",
              "    </tr>\n",
              "    <tr>\n",
              "      <th>4</th>\n",
              "      <td>499911</td>\n",
              "      <td>https://public.opendatasoft.com/api/explore/v2...</td>\n",
              "      <td>2012-05-26</td>\n",
              "      <td>Embajadores</td>\n",
              "      <td>Embajadores</td>\n",
              "      <td>Centro</td>\n",
              "      <td>28012</td>\n",
              "      <td>40.412556</td>\n",
              "      <td>-3.701155</td>\n",
              "      <td>Apartment</td>\n",
              "      <td>...</td>\n",
              "      <td>1.0</td>\n",
              "      <td>40.41255625665078, -3.701155364799422</td>\n",
              "      <td>True</td>\n",
              "      <td>True</td>\n",
              "      <td>True</td>\n",
              "      <td>False</td>\n",
              "      <td>True</td>\n",
              "      <td>False</td>\n",
              "      <td>True</td>\n",
              "      <td>False</td>\n",
              "    </tr>\n",
              "    <tr>\n",
              "      <th>...</th>\n",
              "      <td>...</td>\n",
              "      <td>...</td>\n",
              "      <td>...</td>\n",
              "      <td>...</td>\n",
              "      <td>...</td>\n",
              "      <td>...</td>\n",
              "      <td>...</td>\n",
              "      <td>...</td>\n",
              "      <td>...</td>\n",
              "      <td>...</td>\n",
              "      <td>...</td>\n",
              "      <td>...</td>\n",
              "      <td>...</td>\n",
              "      <td>...</td>\n",
              "      <td>...</td>\n",
              "      <td>...</td>\n",
              "      <td>...</td>\n",
              "      <td>...</td>\n",
              "      <td>...</td>\n",
              "      <td>...</td>\n",
              "      <td>...</td>\n",
              "    </tr>\n",
              "    <tr>\n",
              "      <th>14766</th>\n",
              "      <td>2847041</td>\n",
              "      <td>https://public.opendatasoft.com/api/explore/v2...</td>\n",
              "      <td>2010-05-25</td>\n",
              "      <td>Cortes</td>\n",
              "      <td>Cortes</td>\n",
              "      <td>Centro</td>\n",
              "      <td>28014</td>\n",
              "      <td>40.411334</td>\n",
              "      <td>-3.694809</td>\n",
              "      <td>Apartment</td>\n",
              "      <td>...</td>\n",
              "      <td>1.0</td>\n",
              "      <td>40.4113336999166, -3.694808895278765</td>\n",
              "      <td>True</td>\n",
              "      <td>False</td>\n",
              "      <td>True</td>\n",
              "      <td>False</td>\n",
              "      <td>True</td>\n",
              "      <td>False</td>\n",
              "      <td>False</td>\n",
              "      <td>False</td>\n",
              "    </tr>\n",
              "    <tr>\n",
              "      <th>14767</th>\n",
              "      <td>684744</td>\n",
              "      <td>https://public.opendatasoft.com/api/explore/v2...</td>\n",
              "      <td>2012-02-08</td>\n",
              "      <td>Cortes</td>\n",
              "      <td>Cortes</td>\n",
              "      <td>Centro</td>\n",
              "      <td>28014</td>\n",
              "      <td>40.412930</td>\n",
              "      <td>-3.695167</td>\n",
              "      <td>Apartment</td>\n",
              "      <td>...</td>\n",
              "      <td>2.0</td>\n",
              "      <td>40.41293036599803, -3.695167149872764</td>\n",
              "      <td>True</td>\n",
              "      <td>True</td>\n",
              "      <td>True</td>\n",
              "      <td>True</td>\n",
              "      <td>True</td>\n",
              "      <td>False</td>\n",
              "      <td>True</td>\n",
              "      <td>False</td>\n",
              "    </tr>\n",
              "    <tr>\n",
              "      <th>14768</th>\n",
              "      <td>14770511</td>\n",
              "      <td>https://public.opendatasoft.com/api/explore/v2...</td>\n",
              "      <td>2016-08-27</td>\n",
              "      <td>Cortes</td>\n",
              "      <td>Cortes</td>\n",
              "      <td>Centro</td>\n",
              "      <td>28014</td>\n",
              "      <td>40.414647</td>\n",
              "      <td>-3.697372</td>\n",
              "      <td>Apartment</td>\n",
              "      <td>...</td>\n",
              "      <td>2.0</td>\n",
              "      <td>40.41464666535238, -3.69737219529325</td>\n",
              "      <td>True</td>\n",
              "      <td>False</td>\n",
              "      <td>False</td>\n",
              "      <td>False</td>\n",
              "      <td>True</td>\n",
              "      <td>False</td>\n",
              "      <td>False</td>\n",
              "      <td>False</td>\n",
              "    </tr>\n",
              "    <tr>\n",
              "      <th>14769</th>\n",
              "      <td>6605890</td>\n",
              "      <td>https://public.opendatasoft.com/api/explore/v2...</td>\n",
              "      <td>2015-03-01</td>\n",
              "      <td>Cortes</td>\n",
              "      <td>Cortes</td>\n",
              "      <td>Centro</td>\n",
              "      <td>28014</td>\n",
              "      <td>40.414122</td>\n",
              "      <td>-3.697248</td>\n",
              "      <td>Apartment</td>\n",
              "      <td>...</td>\n",
              "      <td>4.0</td>\n",
              "      <td>40.41412238545284, -3.697248267268714</td>\n",
              "      <td>True</td>\n",
              "      <td>True</td>\n",
              "      <td>False</td>\n",
              "      <td>True</td>\n",
              "      <td>True</td>\n",
              "      <td>False</td>\n",
              "      <td>False</td>\n",
              "      <td>False</td>\n",
              "    </tr>\n",
              "    <tr>\n",
              "      <th>14770</th>\n",
              "      <td>12272825</td>\n",
              "      <td>https://public.opendatasoft.com/api/explore/v2...</td>\n",
              "      <td>2015-09-15</td>\n",
              "      <td>Palacio</td>\n",
              "      <td>Cortes</td>\n",
              "      <td>Centro</td>\n",
              "      <td>28012</td>\n",
              "      <td>40.414111</td>\n",
              "      <td>-3.701141</td>\n",
              "      <td>Apartment</td>\n",
              "      <td>...</td>\n",
              "      <td>7.0</td>\n",
              "      <td>40.41411110741996, -3.7011408371549077</td>\n",
              "      <td>True</td>\n",
              "      <td>True</td>\n",
              "      <td>False</td>\n",
              "      <td>True</td>\n",
              "      <td>True</td>\n",
              "      <td>False</td>\n",
              "      <td>False</td>\n",
              "      <td>False</td>\n",
              "    </tr>\n",
              "  </tbody>\n",
              "</table>\n",
              "<p>12876 rows × 30 columns</p>\n",
              "</div>\n",
              "      <button class=\"colab-df-convert\" onclick=\"convertToInteractive('df-09e1260a-e0c2-46f9-9583-e389370cf5a5')\"\n",
              "              title=\"Convert this dataframe to an interactive table.\"\n",
              "              style=\"display:none;\">\n",
              "        \n",
              "  <svg xmlns=\"http://www.w3.org/2000/svg\" height=\"24px\"viewBox=\"0 0 24 24\"\n",
              "       width=\"24px\">\n",
              "    <path d=\"M0 0h24v24H0V0z\" fill=\"none\"/>\n",
              "    <path d=\"M18.56 5.44l.94 2.06.94-2.06 2.06-.94-2.06-.94-.94-2.06-.94 2.06-2.06.94zm-11 1L8.5 8.5l.94-2.06 2.06-.94-2.06-.94L8.5 2.5l-.94 2.06-2.06.94zm10 10l.94 2.06.94-2.06 2.06-.94-2.06-.94-.94-2.06-.94 2.06-2.06.94z\"/><path d=\"M17.41 7.96l-1.37-1.37c-.4-.4-.92-.59-1.43-.59-.52 0-1.04.2-1.43.59L10.3 9.45l-7.72 7.72c-.78.78-.78 2.05 0 2.83L4 21.41c.39.39.9.59 1.41.59.51 0 1.02-.2 1.41-.59l7.78-7.78 2.81-2.81c.8-.78.8-2.07 0-2.86zM5.41 20L4 18.59l7.72-7.72 1.47 1.35L5.41 20z\"/>\n",
              "  </svg>\n",
              "      </button>\n",
              "      \n",
              "  <style>\n",
              "    .colab-df-container {\n",
              "      display:flex;\n",
              "      flex-wrap:wrap;\n",
              "      gap: 12px;\n",
              "    }\n",
              "\n",
              "    .colab-df-convert {\n",
              "      background-color: #E8F0FE;\n",
              "      border: none;\n",
              "      border-radius: 50%;\n",
              "      cursor: pointer;\n",
              "      display: none;\n",
              "      fill: #1967D2;\n",
              "      height: 32px;\n",
              "      padding: 0 0 0 0;\n",
              "      width: 32px;\n",
              "    }\n",
              "\n",
              "    .colab-df-convert:hover {\n",
              "      background-color: #E2EBFA;\n",
              "      box-shadow: 0px 1px 2px rgba(60, 64, 67, 0.3), 0px 1px 3px 1px rgba(60, 64, 67, 0.15);\n",
              "      fill: #174EA6;\n",
              "    }\n",
              "\n",
              "    [theme=dark] .colab-df-convert {\n",
              "      background-color: #3B4455;\n",
              "      fill: #D2E3FC;\n",
              "    }\n",
              "\n",
              "    [theme=dark] .colab-df-convert:hover {\n",
              "      background-color: #434B5C;\n",
              "      box-shadow: 0px 1px 3px 1px rgba(0, 0, 0, 0.15);\n",
              "      filter: drop-shadow(0px 1px 2px rgba(0, 0, 0, 0.3));\n",
              "      fill: #FFFFFF;\n",
              "    }\n",
              "  </style>\n",
              "\n",
              "      <script>\n",
              "        const buttonEl =\n",
              "          document.querySelector('#df-09e1260a-e0c2-46f9-9583-e389370cf5a5 button.colab-df-convert');\n",
              "        buttonEl.style.display =\n",
              "          google.colab.kernel.accessAllowed ? 'block' : 'none';\n",
              "\n",
              "        async function convertToInteractive(key) {\n",
              "          const element = document.querySelector('#df-09e1260a-e0c2-46f9-9583-e389370cf5a5');\n",
              "          const dataTable =\n",
              "            await google.colab.kernel.invokeFunction('convertToInteractive',\n",
              "                                                     [key], {});\n",
              "          if (!dataTable) return;\n",
              "\n",
              "          const docLinkHtml = 'Like what you see? Visit the ' +\n",
              "            '<a target=\"_blank\" href=https://colab.research.google.com/notebooks/data_table.ipynb>data table notebook</a>'\n",
              "            + ' to learn more about interactive tables.';\n",
              "          element.innerHTML = '';\n",
              "          dataTable['output_type'] = 'display_data';\n",
              "          await google.colab.output.renderOutput(dataTable, element);\n",
              "          const docLink = document.createElement('div');\n",
              "          docLink.innerHTML = docLinkHtml;\n",
              "          element.appendChild(docLink);\n",
              "        }\n",
              "      </script>\n",
              "    </div>\n",
              "  </div>\n",
              "  "
            ]
          },
          "metadata": {},
          "execution_count": 5
        }
      ],
      "source": [
        "data[data['zipcode'].str.startswith('28', na=False)]"
      ]
    },
    {
      "cell_type": "markdown",
      "metadata": {
        "id": "Nf-iL-3g4KV4"
      },
      "source": [
        "Con el anterior filtrado se me quedarían en 12876 filas por lo que son menos y limpiamos porque solo nos interesa los datos de Madrid. Abajo lo que voy a hacer es crearme un dataframe con ese filtrado para ver que las ciudades que queden sean de Madrid y el state sea Madrid o comunidad de Madrid"
      ]
    },
    {
      "cell_type": "code",
      "execution_count": null,
      "metadata": {
        "id": "AXEo7OqEwRA4"
      },
      "outputs": [],
      "source": [
        "prueba_ciudades = data[data['zipcode'].str.startswith('28', na=False)]\n"
      ]
    },
    {
      "cell_type": "markdown",
      "metadata": {
        "id": "67mibP19Xbru"
      },
      "source": [
        "Después del filtro veo las ciudades y el state y si que es de Madrid pero hay letras chinas ¿?"
      ]
    },
    {
      "cell_type": "code",
      "execution_count": null,
      "metadata": {
        "colab": {
          "base_uri": "https://localhost:8080/",
          "height": 200
        },
        "id": "tdebBK4wz6Cw",
        "outputId": "05f11de7-c3e4-419e-f52f-8c5207c400c2"
      },
      "outputs": [
        {
          "output_type": "error",
          "ename": "NameError",
          "evalue": "ignored",
          "traceback": [
            "\u001b[0;31m---------------------------------------------------------------------------\u001b[0m",
            "\u001b[0;31mNameError\u001b[0m                                 Traceback (most recent call last)",
            "\u001b[0;32m<ipython-input-12-a45c191b5832>\u001b[0m in \u001b[0;36m<module>\u001b[0;34m\u001b[0m\n\u001b[0;32m----> 1\u001b[0;31m \u001b[0mprint\u001b[0m\u001b[0;34m(\u001b[0m\u001b[0mciudades2\u001b[0m\u001b[0;34m[\u001b[0m\u001b[0;34m'city'\u001b[0m\u001b[0;34m]\u001b[0m\u001b[0;34m.\u001b[0m\u001b[0munique\u001b[0m\u001b[0;34m(\u001b[0m\u001b[0;34m)\u001b[0m\u001b[0;34m)\u001b[0m\u001b[0;34m\u001b[0m\u001b[0;34m\u001b[0m\u001b[0m\n\u001b[0m\u001b[1;32m      2\u001b[0m \u001b[0mprint\u001b[0m\u001b[0;34m(\u001b[0m\u001b[0;34m'----'\u001b[0m\u001b[0;34m)\u001b[0m\u001b[0;34m\u001b[0m\u001b[0;34m\u001b[0m\u001b[0m\n\u001b[1;32m      3\u001b[0m \u001b[0mprint\u001b[0m\u001b[0;34m(\u001b[0m\u001b[0mciudades2\u001b[0m\u001b[0;34m[\u001b[0m\u001b[0;34m'state'\u001b[0m\u001b[0;34m]\u001b[0m\u001b[0;34m.\u001b[0m\u001b[0munique\u001b[0m\u001b[0;34m(\u001b[0m\u001b[0;34m)\u001b[0m\u001b[0;34m)\u001b[0m\u001b[0;34m\u001b[0m\u001b[0;34m\u001b[0m\u001b[0m\n",
            "\u001b[0;31mNameError\u001b[0m: name 'ciudades2' is not defined"
          ]
        }
      ],
      "source": [
        "print(ciudades2['city'].unique())\n",
        "print('----')\n",
        "print(ciudades2['state'].unique())"
      ]
    },
    {
      "cell_type": "code",
      "execution_count": null,
      "metadata": {
        "id": "r8cRC_umw0nl"
      },
      "outputs": [],
      "source": [
        "import seaborn as sns\n",
        "import matplotlib.pyplot as plt\n"
      ]
    },
    {
      "cell_type": "code",
      "execution_count": null,
      "metadata": {
        "id": "UVJN_B12pQwl",
        "colab": {
          "base_uri": "https://localhost:8080/",
          "height": 803
        },
        "outputId": "9f7809da-ffa7-4118-a40f-b52c672fe76f"
      },
      "outputs": [
        {
          "output_type": "execute_result",
          "data": {
            "text/plain": [
              "Index(['id', 'picture_url', 'host_since', 'host_neighbourhood',\n",
              "       'neighbourhood_cleansed', 'neighbourhood_group_cleansed', 'zipcode',\n",
              "       'latitude', 'longitude', 'property_type', 'room_type', 'bed_type',\n",
              "       'square_feet', 'price', 'security_deposit', 'cleaning_fee',\n",
              "       'availability_365', 'number_of_reviews', 'review_scores_value',\n",
              "       'cancellation_policy', 'calculated_host_listings_count', 'geolocation',\n",
              "       'profile_pic', 'identity_verified', 'location_exact',\n",
              "       'instant_bookable', 'license_required', 'guest_pic_required',\n",
              "       'superhost', 'guest_phone_verification'],\n",
              "      dtype='object')"
            ]
          },
          "metadata": {},
          "execution_count": 9
        },
        {
          "output_type": "display_data",
          "data": {
            "text/plain": [
              "<Figure size 1080x576 with 2 Axes>"
            ],
            "image/png": "[encoded data removed]"
          },
          "metadata": {}
        }
      ],
      "source": [
        "corr = prueba_ciudades.corr(method='kendall')\n",
        "plt.figure(figsize=(15,8), facecolor = 'white')\n",
        "sns.heatmap(corr, annot=True,)\n",
        "prueba_ciudades.columns"
      ]
    },
    {
      "cell_type": "markdown",
      "source": [
        "Greta: Hago un mapa de correlacion; como demostró aitana en R, las correlaciones son muy bajas\n"
      ],
      "metadata": {
        "id": "vs_-YkjN6B5e"
      }
    },
    {
      "cell_type": "markdown",
      "source": [
        "Me cargo el histograma ya que solo estamos trabajando con madrid ahora"
      ],
      "metadata": {
        "id": "zpcySWVSAGoM"
      }
    },
    {
      "cell_type": "code",
      "execution_count": null,
      "metadata": {
        "id": "Id0bEAWC1-i5"
      },
      "outputs": [],
      "source": []
    },
    {
      "cell_type": "code",
      "execution_count": null,
      "metadata": {
        "id": "P3zwDC_Go7F7"
      },
      "outputs": [],
      "source": [
        "pd.set_option(\"display.max_rows\", None)"
      ]
    },
    {
      "cell_type": "markdown",
      "metadata": {
        "id": "gf3hw8xerIr5"
      },
      "source": [
        "Ya filtrado por codigo postal confimamos listados de ciudades y cantidad de cada. Se modifican todos a \"Madrid\""
      ]
    },
    {
      "cell_type": "code",
      "execution_count": null,
      "metadata": {
        "id": "yn3_FXGHrYh8",
        "colab": {
          "base_uri": "https://localhost:8080/",
          "height": 524
        },
        "outputId": "a5fd2fd7-852c-4e3a-801d-f9861ae2923e"
      },
      "outputs": [
        {
          "output_type": "error",
          "ename": "KeyError",
          "evalue": "ignored",
          "traceback": [
            "\u001b[0;31m---------------------------------------------------------------------------\u001b[0m",
            "\u001b[0;31mKeyError\u001b[0m                                  Traceback (most recent call last)",
            "\u001b[0;32m/usr/local/lib/python3.8/dist-packages/pandas/core/indexes/base.py\u001b[0m in \u001b[0;36mget_loc\u001b[0;34m(self, key, method, tolerance)\u001b[0m\n\u001b[1;32m   3360\u001b[0m             \u001b[0;32mtry\u001b[0m\u001b[0;34m:\u001b[0m\u001b[0;34m\u001b[0m\u001b[0;34m\u001b[0m\u001b[0m\n\u001b[0;32m-> 3361\u001b[0;31m                 \u001b[0;32mreturn\u001b[0m \u001b[0mself\u001b[0m\u001b[0;34m.\u001b[0m\u001b[0m_engine\u001b[0m\u001b[0;34m.\u001b[0m\u001b[0mget_loc\u001b[0m\u001b[0;34m(\u001b[0m\u001b[0mcasted_key\u001b[0m\u001b[0;34m)\u001b[0m\u001b[0;34m\u001b[0m\u001b[0;34m\u001b[0m\u001b[0m\n\u001b[0m\u001b[1;32m   3362\u001b[0m             \u001b[0;32mexcept\u001b[0m \u001b[0mKeyError\u001b[0m \u001b[0;32mas\u001b[0m \u001b[0merr\u001b[0m\u001b[0;34m:\u001b[0m\u001b[0;34m\u001b[0m\u001b[0;34m\u001b[0m\u001b[0m\n",
            "\u001b[0;32m/usr/local/lib/python3.8/dist-packages/pandas/_libs/index.pyx\u001b[0m in \u001b[0;36mpandas._libs.index.IndexEngine.get_loc\u001b[0;34m()\u001b[0m\n",
            "\u001b[0;32m/usr/local/lib/python3.8/dist-packages/pandas/_libs/index.pyx\u001b[0m in \u001b[0;36mpandas._libs.index.IndexEngine.get_loc\u001b[0;34m()\u001b[0m\n",
            "\u001b[0;32mpandas/_libs/hashtable_class_helper.pxi\u001b[0m in \u001b[0;36mpandas._libs.hashtable.PyObjectHashTable.get_item\u001b[0;34m()\u001b[0m\n",
            "\u001b[0;32mpandas/_libs/hashtable_class_helper.pxi\u001b[0m in \u001b[0;36mpandas._libs.hashtable.PyObjectHashTable.get_item\u001b[0;34m()\u001b[0m\n",
            "\u001b[0;31mKeyError\u001b[0m: 'city'",
            "\nThe above exception was the direct cause of the following exception:\n",
            "\u001b[0;31mKeyError\u001b[0m                                  Traceback (most recent call last)",
            "\u001b[0;32m<ipython-input-37-05aa5ba7b866>\u001b[0m in \u001b[0;36m<module>\u001b[0;34m\u001b[0m\n\u001b[0;32m----> 1\u001b[0;31m \u001b[0mprueba_ciudades\u001b[0m\u001b[0;34m.\u001b[0m\u001b[0mloc\u001b[0m\u001b[0;34m[\u001b[0m\u001b[0mprueba_ciudades\u001b[0m\u001b[0;34m[\u001b[0m\u001b[0;34m\"city\"\u001b[0m\u001b[0;34m]\u001b[0m \u001b[0;34m!=\u001b[0m \u001b[0;34m\"Madrid\"\u001b[0m\u001b[0;34m,\u001b[0m\u001b[0;34m\"city\"\u001b[0m\u001b[0;34m]\u001b[0m \u001b[0;34m=\u001b[0m \u001b[0;34m\"Madrid\"\u001b[0m\u001b[0;34m\u001b[0m\u001b[0;34m\u001b[0m\u001b[0m\n\u001b[0m",
            "\u001b[0;32m/usr/local/lib/python3.8/dist-packages/pandas/core/frame.py\u001b[0m in \u001b[0;36m__getitem__\u001b[0;34m(self, key)\u001b[0m\n\u001b[1;32m   3456\u001b[0m             \u001b[0;32mif\u001b[0m \u001b[0mself\u001b[0m\u001b[0;34m.\u001b[0m\u001b[0mcolumns\u001b[0m\u001b[0;34m.\u001b[0m\u001b[0mnlevels\u001b[0m \u001b[0;34m>\u001b[0m \u001b[0;36m1\u001b[0m\u001b[0;34m:\u001b[0m\u001b[0;34m\u001b[0m\u001b[0;34m\u001b[0m\u001b[0m\n\u001b[1;32m   3457\u001b[0m                 \u001b[0;32mreturn\u001b[0m \u001b[0mself\u001b[0m\u001b[0;34m.\u001b[0m\u001b[0m_getitem_multilevel\u001b[0m\u001b[0;34m(\u001b[0m\u001b[0mkey\u001b[0m\u001b[0;34m)\u001b[0m\u001b[0;34m\u001b[0m\u001b[0;34m\u001b[0m\u001b[0m\n\u001b[0;32m-> 3458\u001b[0;31m             \u001b[0mindexer\u001b[0m \u001b[0;34m=\u001b[0m \u001b[0mself\u001b[0m\u001b[0;34m.\u001b[0m\u001b[0mcolumns\u001b[0m\u001b[0;34m.\u001b[0m\u001b[0mget_loc\u001b[0m\u001b[0;34m(\u001b[0m\u001b[0mkey\u001b[0m\u001b[0;34m)\u001b[0m\u001b[0;34m\u001b[0m\u001b[0;34m\u001b[0m\u001b[0m\n\u001b[0m\u001b[1;32m   3459\u001b[0m             \u001b[0;32mif\u001b[0m \u001b[0mis_integer\u001b[0m\u001b[0;34m(\u001b[0m\u001b[0mindexer\u001b[0m\u001b[0;34m)\u001b[0m\u001b[0;34m:\u001b[0m\u001b[0;34m\u001b[0m\u001b[0;34m\u001b[0m\u001b[0m\n\u001b[1;32m   3460\u001b[0m                 \u001b[0mindexer\u001b[0m \u001b[0;34m=\u001b[0m \u001b[0;34m[\u001b[0m\u001b[0mindexer\u001b[0m\u001b[0;34m]\u001b[0m\u001b[0;34m\u001b[0m\u001b[0;34m\u001b[0m\u001b[0m\n",
            "\u001b[0;32m/usr/local/lib/python3.8/dist-packages/pandas/core/indexes/base.py\u001b[0m in \u001b[0;36mget_loc\u001b[0;34m(self, key, method, tolerance)\u001b[0m\n\u001b[1;32m   3361\u001b[0m                 \u001b[0;32mreturn\u001b[0m \u001b[0mself\u001b[0m\u001b[0;34m.\u001b[0m\u001b[0m_engine\u001b[0m\u001b[0;34m.\u001b[0m\u001b[0mget_loc\u001b[0m\u001b[0;34m(\u001b[0m\u001b[0mcasted_key\u001b[0m\u001b[0;34m)\u001b[0m\u001b[0;34m\u001b[0m\u001b[0;34m\u001b[0m\u001b[0m\n\u001b[1;32m   3362\u001b[0m             \u001b[0;32mexcept\u001b[0m \u001b[0mKeyError\u001b[0m \u001b[0;32mas\u001b[0m \u001b[0merr\u001b[0m\u001b[0;34m:\u001b[0m\u001b[0;34m\u001b[0m\u001b[0;34m\u001b[0m\u001b[0m\n\u001b[0;32m-> 3363\u001b[0;31m                 \u001b[0;32mraise\u001b[0m \u001b[0mKeyError\u001b[0m\u001b[0;34m(\u001b[0m\u001b[0mkey\u001b[0m\u001b[0;34m)\u001b[0m \u001b[0;32mfrom\u001b[0m \u001b[0merr\u001b[0m\u001b[0;34m\u001b[0m\u001b[0;34m\u001b[0m\u001b[0m\n\u001b[0m\u001b[1;32m   3364\u001b[0m \u001b[0;34m\u001b[0m\u001b[0m\n\u001b[1;32m   3365\u001b[0m         \u001b[0;32mif\u001b[0m \u001b[0mis_scalar\u001b[0m\u001b[0;34m(\u001b[0m\u001b[0mkey\u001b[0m\u001b[0;34m)\u001b[0m \u001b[0;32mand\u001b[0m \u001b[0misna\u001b[0m\u001b[0;34m(\u001b[0m\u001b[0mkey\u001b[0m\u001b[0;34m)\u001b[0m \u001b[0;32mand\u001b[0m \u001b[0;32mnot\u001b[0m \u001b[0mself\u001b[0m\u001b[0;34m.\u001b[0m\u001b[0mhasnans\u001b[0m\u001b[0;34m:\u001b[0m\u001b[0;34m\u001b[0m\u001b[0;34m\u001b[0m\u001b[0m\n",
            "\u001b[0;31mKeyError\u001b[0m: 'city'"
          ]
        }
      ],
      "source": [
        "prueba_ciudades.loc[prueba_ciudades[\"city\"] != \"Madrid\",\"city\"] = \"Madrid\""
      ]
    },
    {
      "cell_type": "markdown",
      "metadata": {
        "id": "6ZE5fXfH_MMj"
      },
      "source": [
        "genero un boxplot para probar si hay alguna relacion entre la disponibilidad-lo rentado que este el piso y si tiene foto de perfil"
      ]
    },
    {
      "cell_type": "code",
      "execution_count": null,
      "metadata": {
        "colab": {
          "base_uri": "https://localhost:8080/",
          "height": 297
        },
        "id": "BqTc4FxzWlYX",
        "outputId": "9e5c1cfb-1650-46d5-d8c1-764111a2f5f9"
      },
      "outputs": [
        {
          "output_type": "execute_result",
          "data": {
            "text/plain": [
              "<matplotlib.axes._subplots.AxesSubplot at 0x7eff27a989d0>"
            ]
          },
          "metadata": {},
          "execution_count": 17
        },
        {
          "output_type": "display_data",
          "data": {
            "text/plain": [
              "<Figure size 432x288 with 1 Axes>"
            ],
            "image/png": "[encoded data removed]"
          },
          "metadata": {
            "needs_background": "light"
          }
        }
      ],
      "source": [
        "sns.boxplot(x='profile_pic', y=\"availability_365\",data=data)"
      ]
    },
    {
      "cell_type": "markdown",
      "metadata": {
        "id": "EhMjGqC6ZZjL"
      },
      "source": [
        "A continuación ya voy a sobreescribir sobre el dataframe final quitando las comunidades que no sean de Madrid esto lo consigo filtrando por aquellos zipcode que comiencen por 28"
      ]
    },
    {
      "cell_type": "code",
      "execution_count": null,
      "metadata": {
        "id": "gh905hDWZv-Q"
      },
      "outputs": [],
      "source": [
        "data=data[data['zipcode'].str.startswith('28', na=False)]"
      ]
    },
    {
      "cell_type": "code",
      "execution_count": null,
      "metadata": {
        "colab": {
          "base_uri": "https://localhost:8080/"
        },
        "id": "Qasvw_yRaH57",
        "outputId": "8b1cf1e7-adcc-483f-fdbd-46cb1faa33f3"
      },
      "outputs": [
        {
          "output_type": "stream",
          "name": "stdout",
          "text": [
            "['28005' '28012' '28013' '28008' '28004' '28015' '28045' '28007' '28009'\n",
            " '28014' '28001' '28006' '28028' '28002' '28016' '28036' '28039' '28020'\n",
            " '28060' '28003' '28029' '28046' '28027' '28043' '28033' '28055' '28050'\n",
            " '28010' '28035' '28034' '28021' '28037' '28042' '28011' '28047' '28019'\n",
            " '28024' '28044' '28025' '28038' '28023' '28041' '28026' '28053' '28030'\n",
            " '28017' '28040' '28018' '28660' '28051' '28032' '28022' '2804' '28031'\n",
            " '28730' '28054' '2802\\n28012' '28049' '28058' '28052' '28105' '28224'\n",
            " '280013' '28094' '28002\\n28002' '28830' '28' '28850' '28056' '28290'\n",
            " '2805' '28051\\n28051' '2815' '28048']\n"
          ]
        }
      ],
      "source": [
        "print(data['zipcode'].unique())"
      ]
    },
    {
      "cell_type": "markdown",
      "metadata": {
        "id": "08megpMNarS6"
      },
      "source": [
        "Como vemos arriba los zipcode tiene que tener una longitud de 5 y hay algunos valores que tiene incluso una barra o un solo 28 por lo que voy a cambiar los que tienen una barra a solo una vez ya que parece que está puesto dos veces y hay otro que tiene 6 dígitos '280013' y buscando por neighbourhod veo que es palacio que tiene zipcode '28013' por lo que se han equivocado introduciendo un 0. Ese lo cambio al correcto no lo elimino, de los otros que no tienen 5 dígitos dudo así que los borro.  "
      ]
    },
    {
      "cell_type": "code",
      "execution_count": null,
      "metadata": {
        "colab": {
          "base_uri": "https://localhost:8080/"
        },
        "id": "S23UMv3_eWeL",
        "outputId": "6a3f1134-d4b7-432f-af95-33ea97beba4a"
      },
      "outputs": [
        {
          "output_type": "stream",
          "name": "stdout",
          "text": [
            "['28005' '28012' '28013' '28008' '28004' '28015' '28045' '28007' '28009'\n",
            " '28014' '28001' '28006' '28028' '28002' '28016' '28036' '28039' '28020'\n",
            " '28060' '28003' '28029' '28046' '28027' '28043' '28033' '28055' '28050'\n",
            " '28010' '28035' '28034' '28021' '28037' '28042' '28011' '28047' '28019'\n",
            " '28024' '28044' '28025' '28038' '28023' '28041' '28026' '28053' '28030'\n",
            " '28017' '28040' '28018' '28660' '28051' '28032' '28022' '2804' '28031'\n",
            " '28730' '28054' '28049' '28058' '28052' '28105' '28224' '28094' '28830'\n",
            " '28' '28850' '28056' '28290' '2805' '2815' '28048']\n"
          ]
        }
      ],
      "source": [
        "data=data.replace({'28002\\n28002' : '28002', '2802\\n28012' : '28012', '28051\\n28051': '28051', '280013': '28013'})\n",
        "print(data['zipcode'].unique())"
      ]
    },
    {
      "cell_type": "code",
      "execution_count": null,
      "metadata": {
        "id": "xplBtYDGH6Fl",
        "colab": {
          "base_uri": "https://localhost:8080/"
        },
        "outputId": "2aa833ce-e872-47df-c234-45bab406692d"
      },
      "outputs": [
        {
          "output_type": "execute_result",
          "data": {
            "text/plain": [
              "28012    2066\n",
              "28004    1803\n",
              "28005    1195\n",
              "28013    1020\n",
              "28014     633\n",
              "         ... \n",
              "28052       1\n",
              "28058       1\n",
              "28730       1\n",
              "2804        1\n",
              "28048       1\n",
              "Name: zipcode, Length: 70, dtype: int64"
            ]
          },
          "metadata": {},
          "execution_count": 41
        }
      ],
      "source": [
        "data.zipcode.value_counts()"
      ]
    },
    {
      "cell_type": "code",
      "execution_count": null,
      "metadata": {
        "id": "CM3rK7lFgIWy",
        "colab": {
          "base_uri": "https://localhost:8080/"
        },
        "outputId": "1f9c5e9c-ec12-4659-ac18-e4f5b5581d8b"
      },
      "outputs": [
        {
          "output_type": "stream",
          "name": "stdout",
          "text": [
            "['28005' '28012' '28013' '28008' '28004' '28015' '28045' '28007' '28009'\n",
            " '28014' '28001' '28006' '28028' '28002' '28016' '28036' '28039' '28020'\n",
            " '28060' '28003' '28029' '28046' '28027' '28043' '28033' '28055' '28050'\n",
            " '28010' '28035' '28034' '28021' '28037' '28042' '28011' '28047' '28019'\n",
            " '28024' '28044' '28025' '28038' '28023' '28041' '28026' '28053' '28030'\n",
            " '28017' '28040' '28018' '28660' '28051' '28032' '28022' '28031' '28730'\n",
            " '28054' '28049' '28058' '28052' '28105' '28224' '28094' '28830' '28850'\n",
            " '28056' '28290' '28048']\n"
          ]
        }
      ],
      "source": [
        "data = data.drop(data[data['zipcode']=='28'].index)\n",
        "data = data.drop(data[data['zipcode']=='2805'].index)\n",
        "data = data.drop(data[data['zipcode']=='2815'].index)\n",
        "data = data.drop(data[data['zipcode']=='2804'].index)\n",
        "print(data['zipcode'].unique())"
      ]
    },
    {
      "cell_type": "markdown",
      "metadata": {
        "id": "4aY_ne4goOMa"
      },
      "source": [
        "Como podemos ver arriba ya he normalizado por tanto el zipcode, solo teniendo aquellos que empiezan por 28 y tienen una longitud de 5 caracteres \n"
      ]
    },
    {
      "cell_type": "markdown",
      "metadata": {
        "id": "1qIEP70dpcdZ"
      },
      "source": [
        "Dejo las columnas borradas todas al principio."
      ]
    },
    {
      "cell_type": "code",
      "execution_count": null,
      "metadata": {
        "colab": {
          "base_uri": "https://localhost:8080/"
        },
        "id": "M_2DAWRIpmQo",
        "outputId": "4d441526-18f1-41e5-8c81-404f5460e369"
      },
      "outputs": [
        {
          "output_type": "stream",
          "name": "stdout",
          "text": [
            "<class 'pandas.core.frame.DataFrame'>\n",
            "Int64Index: 12872 entries, 0 to 14770\n",
            "Data columns (total 31 columns):\n",
            " #   Column                          Non-Null Count  Dtype  \n",
            "---  ------                          --------------  -----  \n",
            " 0   id                              12872 non-null  int64  \n",
            " 1   picture_url                     12844 non-null  object \n",
            " 2   host_since                      12869 non-null  object \n",
            " 3   host_neighbourhood              9843 non-null   object \n",
            " 4   host_total_listings_count       12869 non-null  float64\n",
            " 5   neighbourhood_cleansed          12872 non-null  object \n",
            " 6   neighbourhood_group_cleansed    12872 non-null  object \n",
            " 7   zipcode                         12872 non-null  object \n",
            " 8   latitude                        12872 non-null  float64\n",
            " 9   longitude                       12872 non-null  float64\n",
            " 10  property_type                   12872 non-null  object \n",
            " 11  room_type                       12872 non-null  object \n",
            " 12  bed_type                        12872 non-null  object \n",
            " 13  square_feet                     514 non-null    float64\n",
            " 14  price                           12864 non-null  float64\n",
            " 15  security_deposit                5481 non-null   float64\n",
            " 16  cleaning_fee                    7591 non-null   float64\n",
            " 17  availability_365                12872 non-null  int64  \n",
            " 18  number_of_reviews               12872 non-null  int64  \n",
            " 19  review_scores_value             10077 non-null  float64\n",
            " 20  cancellation_policy             12872 non-null  object \n",
            " 21  calculated_host_listings_count  12872 non-null  float64\n",
            " 22  geolocation                     12872 non-null  object \n",
            " 23  profile_pic                     12872 non-null  bool   \n",
            " 24  identity_verified               12872 non-null  bool   \n",
            " 25  location_exact                  12872 non-null  bool   \n",
            " 26  instant_bookable                12872 non-null  bool   \n",
            " 27  license_required                12872 non-null  bool   \n",
            " 28  guest_pic_required              12872 non-null  bool   \n",
            " 29  superhost                       12872 non-null  bool   \n",
            " 30  guest_phone_verification        12872 non-null  bool   \n",
            "dtypes: bool(8), float64(9), int64(3), object(11)\n",
            "memory usage: 2.5+ MB\n"
          ]
        }
      ],
      "source": [
        "data.info()"
      ]
    },
    {
      "cell_type": "markdown",
      "metadata": {
        "id": "SEa3sMJ-pyKx"
      },
      "source": [
        "con el info veo la cantidad de no nulos y el objetivo es equiparar más o menos todos a que estén en el mismo valor o por ejemplo los que vemos que no a lo mejor son columnas que no nos van a influir tanto porque hay nulos pero de momento con esto ya puedo ir a analizar más cosas ya que hay bastantes columnas que tienen 12872 cosa que es buena."
      ]
    },
    {
      "cell_type": "markdown",
      "metadata": {
        "id": "GmS4Or0VqHug"
      },
      "source": [
        "Por tanto el siguiente paso es descargarme el csv para guardar todo lo hecho arriba por si acaso de backup (no ejecutar si no lo queremos descargar)"
      ]
    },
    {
      "cell_type": "code",
      "execution_count": null,
      "metadata": {
        "colab": {
          "base_uri": "https://localhost:8080/",
          "height": 17
        },
        "id": "oORubRayqPkA",
        "outputId": "0d427a50-a0da-4cda-99d6-a028f44c611e"
      },
      "outputs": [
        {
          "output_type": "display_data",
          "data": {
            "text/plain": [
              "<IPython.core.display.Javascript object>"
            ],
            "application/javascript": [
              "\n",
              "    async function download(id, filename, size) {\n",
              "      if (!google.colab.kernel.accessAllowed) {\n",
              "        return;\n",
              "      }\n",
              "      const div = document.createElement('div');\n",
              "      const label = document.createElement('label');\n",
              "      label.textContent = `Downloading \"${filename}\": `;\n",
              "      div.appendChild(label);\n",
              "      const progress = document.createElement('progress');\n",
              "      progress.max = size;\n",
              "      div.appendChild(progress);\n",
              "      document.body.appendChild(div);\n",
              "\n",
              "      const buffers = [];\n",
              "      let downloaded = 0;\n",
              "\n",
              "      const channel = await google.colab.kernel.comms.open(id);\n",
              "      // Send a message to notify the kernel that we're ready.\n",
              "      channel.send({})\n",
              "\n",
              "      for await (const message of channel.messages) {\n",
              "        // Send a message to notify the kernel that we're ready.\n",
              "        channel.send({})\n",
              "        if (message.buffers) {\n",
              "          for (const buffer of message.buffers) {\n",
              "            buffers.push(buffer);\n",
              "            downloaded += buffer.byteLength;\n",
              "            progress.value = downloaded;\n",
              "          }\n",
              "        }\n",
              "      }\n",
              "      const blob = new Blob(buffers, {type: 'application/binary'});\n",
              "      const a = document.createElement('a');\n",
              "      a.href = window.URL.createObjectURL(blob);\n",
              "      a.download = filename;\n",
              "      div.appendChild(a);\n",
              "      a.click();\n",
              "      div.remove();\n",
              "    }\n",
              "  "
            ]
          },
          "metadata": {}
        },
        {
          "output_type": "display_data",
          "data": {
            "text/plain": [
              "<IPython.core.display.Javascript object>"
            ],
            "application/javascript": [
              "download(\"download_7f231660-95cc-46c4-9cc9-2a1322abe42e\", \"data1.csv\", 4808323)"
            ]
          },
          "metadata": {}
        }
      ],
      "source": [
        "data.to_csv('data1.csv')\n",
        "from google.colab import files \n",
        "files.download('data1.csv')"
      ]
    },
    {
      "cell_type": "code",
      "execution_count": null,
      "metadata": {
        "id": "6zemVIp3O09G",
        "colab": {
          "base_uri": "https://localhost:8080/",
          "height": 323
        },
        "outputId": "86ae62cc-d862-49e6-f29b-5747b8e1a03a"
      },
      "outputs": [
        {
          "output_type": "error",
          "ename": "KeyError",
          "evalue": "ignored",
          "traceback": [
            "\u001b[0;31m---------------------------------------------------------------------------\u001b[0m",
            "\u001b[0;31mKeyError\u001b[0m                                  Traceback (most recent call last)",
            "\u001b[0;32m<ipython-input-24-72957f05f2ad>\u001b[0m in \u001b[0;36m<module>\u001b[0;34m\u001b[0m\n\u001b[0;32m----> 1\u001b[0;31m \u001b[0mdata\u001b[0m\u001b[0;34m=\u001b[0m\u001b[0mdata\u001b[0m\u001b[0;34m.\u001b[0m\u001b[0mdrop\u001b[0m\u001b[0;34m(\u001b[0m\u001b[0mcolumns\u001b[0m\u001b[0;34m=\u001b[0m\u001b[0;34m[\u001b[0m\u001b[0;34m'host_neighbourhood'\u001b[0m\u001b[0;34m,\u001b[0m \u001b[0;34m'square_feet'\u001b[0m\u001b[0;34m]\u001b[0m\u001b[0;34m)\u001b[0m\u001b[0;34m\u001b[0m\u001b[0;34m\u001b[0m\u001b[0m\n\u001b[0m",
            "\u001b[0;32m/usr/local/lib/python3.8/dist-packages/pandas/util/_decorators.py\u001b[0m in \u001b[0;36mwrapper\u001b[0;34m(*args, **kwargs)\u001b[0m\n\u001b[1;32m    309\u001b[0m                     \u001b[0mstacklevel\u001b[0m\u001b[0;34m=\u001b[0m\u001b[0mstacklevel\u001b[0m\u001b[0;34m,\u001b[0m\u001b[0;34m\u001b[0m\u001b[0;34m\u001b[0m\u001b[0m\n\u001b[1;32m    310\u001b[0m                 )\n\u001b[0;32m--> 311\u001b[0;31m             \u001b[0;32mreturn\u001b[0m \u001b[0mfunc\u001b[0m\u001b[0;34m(\u001b[0m\u001b[0;34m*\u001b[0m\u001b[0margs\u001b[0m\u001b[0;34m,\u001b[0m \u001b[0;34m**\u001b[0m\u001b[0mkwargs\u001b[0m\u001b[0;34m)\u001b[0m\u001b[0;34m\u001b[0m\u001b[0;34m\u001b[0m\u001b[0m\n\u001b[0m\u001b[1;32m    312\u001b[0m \u001b[0;34m\u001b[0m\u001b[0m\n\u001b[1;32m    313\u001b[0m         \u001b[0;32mreturn\u001b[0m \u001b[0mwrapper\u001b[0m\u001b[0;34m\u001b[0m\u001b[0;34m\u001b[0m\u001b[0m\n",
            "\u001b[0;32m/usr/local/lib/python3.8/dist-packages/pandas/core/frame.py\u001b[0m in \u001b[0;36mdrop\u001b[0;34m(self, labels, axis, index, columns, level, inplace, errors)\u001b[0m\n\u001b[1;32m   4904\u001b[0m                 \u001b[0mweight\u001b[0m  \u001b[0;36m1.0\u001b[0m     \u001b[0;36m0.8\u001b[0m\u001b[0;34m\u001b[0m\u001b[0;34m\u001b[0m\u001b[0m\n\u001b[1;32m   4905\u001b[0m         \"\"\"\n\u001b[0;32m-> 4906\u001b[0;31m         return super().drop(\n\u001b[0m\u001b[1;32m   4907\u001b[0m             \u001b[0mlabels\u001b[0m\u001b[0;34m=\u001b[0m\u001b[0mlabels\u001b[0m\u001b[0;34m,\u001b[0m\u001b[0;34m\u001b[0m\u001b[0;34m\u001b[0m\u001b[0m\n\u001b[1;32m   4908\u001b[0m             \u001b[0maxis\u001b[0m\u001b[0;34m=\u001b[0m\u001b[0maxis\u001b[0m\u001b[0;34m,\u001b[0m\u001b[0;34m\u001b[0m\u001b[0;34m\u001b[0m\u001b[0m\n",
            "\u001b[0;32m/usr/local/lib/python3.8/dist-packages/pandas/core/generic.py\u001b[0m in \u001b[0;36mdrop\u001b[0;34m(self, labels, axis, index, columns, level, inplace, errors)\u001b[0m\n\u001b[1;32m   4148\u001b[0m         \u001b[0;32mfor\u001b[0m \u001b[0maxis\u001b[0m\u001b[0;34m,\u001b[0m \u001b[0mlabels\u001b[0m \u001b[0;32min\u001b[0m \u001b[0maxes\u001b[0m\u001b[0;34m.\u001b[0m\u001b[0mitems\u001b[0m\u001b[0;34m(\u001b[0m\u001b[0;34m)\u001b[0m\u001b[0;34m:\u001b[0m\u001b[0;34m\u001b[0m\u001b[0;34m\u001b[0m\u001b[0m\n\u001b[1;32m   4149\u001b[0m             \u001b[0;32mif\u001b[0m \u001b[0mlabels\u001b[0m \u001b[0;32mis\u001b[0m \u001b[0;32mnot\u001b[0m \u001b[0;32mNone\u001b[0m\u001b[0;34m:\u001b[0m\u001b[0;34m\u001b[0m\u001b[0;34m\u001b[0m\u001b[0m\n\u001b[0;32m-> 4150\u001b[0;31m                 \u001b[0mobj\u001b[0m \u001b[0;34m=\u001b[0m \u001b[0mobj\u001b[0m\u001b[0;34m.\u001b[0m\u001b[0m_drop_axis\u001b[0m\u001b[0;34m(\u001b[0m\u001b[0mlabels\u001b[0m\u001b[0;34m,\u001b[0m \u001b[0maxis\u001b[0m\u001b[0;34m,\u001b[0m \u001b[0mlevel\u001b[0m\u001b[0;34m=\u001b[0m\u001b[0mlevel\u001b[0m\u001b[0;34m,\u001b[0m \u001b[0merrors\u001b[0m\u001b[0;34m=\u001b[0m\u001b[0merrors\u001b[0m\u001b[0;34m)\u001b[0m\u001b[0;34m\u001b[0m\u001b[0;34m\u001b[0m\u001b[0m\n\u001b[0m\u001b[1;32m   4151\u001b[0m \u001b[0;34m\u001b[0m\u001b[0m\n\u001b[1;32m   4152\u001b[0m         \u001b[0;32mif\u001b[0m \u001b[0minplace\u001b[0m\u001b[0;34m:\u001b[0m\u001b[0;34m\u001b[0m\u001b[0;34m\u001b[0m\u001b[0m\n",
            "\u001b[0;32m/usr/local/lib/python3.8/dist-packages/pandas/core/generic.py\u001b[0m in \u001b[0;36m_drop_axis\u001b[0;34m(self, labels, axis, level, errors)\u001b[0m\n\u001b[1;32m   4183\u001b[0m                 \u001b[0mnew_axis\u001b[0m \u001b[0;34m=\u001b[0m \u001b[0maxis\u001b[0m\u001b[0;34m.\u001b[0m\u001b[0mdrop\u001b[0m\u001b[0;34m(\u001b[0m\u001b[0mlabels\u001b[0m\u001b[0;34m,\u001b[0m \u001b[0mlevel\u001b[0m\u001b[0;34m=\u001b[0m\u001b[0mlevel\u001b[0m\u001b[0;34m,\u001b[0m \u001b[0merrors\u001b[0m\u001b[0;34m=\u001b[0m\u001b[0merrors\u001b[0m\u001b[0;34m)\u001b[0m\u001b[0;34m\u001b[0m\u001b[0;34m\u001b[0m\u001b[0m\n\u001b[1;32m   4184\u001b[0m             \u001b[0;32melse\u001b[0m\u001b[0;34m:\u001b[0m\u001b[0;34m\u001b[0m\u001b[0;34m\u001b[0m\u001b[0m\n\u001b[0;32m-> 4185\u001b[0;31m                 \u001b[0mnew_axis\u001b[0m \u001b[0;34m=\u001b[0m \u001b[0maxis\u001b[0m\u001b[0;34m.\u001b[0m\u001b[0mdrop\u001b[0m\u001b[0;34m(\u001b[0m\u001b[0mlabels\u001b[0m\u001b[0;34m,\u001b[0m \u001b[0merrors\u001b[0m\u001b[0;34m=\u001b[0m\u001b[0merrors\u001b[0m\u001b[0;34m)\u001b[0m\u001b[0;34m\u001b[0m\u001b[0;34m\u001b[0m\u001b[0m\n\u001b[0m\u001b[1;32m   4186\u001b[0m             \u001b[0mresult\u001b[0m \u001b[0;34m=\u001b[0m \u001b[0mself\u001b[0m\u001b[0;34m.\u001b[0m\u001b[0mreindex\u001b[0m\u001b[0;34m(\u001b[0m\u001b[0;34m**\u001b[0m\u001b[0;34m{\u001b[0m\u001b[0maxis_name\u001b[0m\u001b[0;34m:\u001b[0m \u001b[0mnew_axis\u001b[0m\u001b[0;34m}\u001b[0m\u001b[0;34m)\u001b[0m\u001b[0;34m\u001b[0m\u001b[0;34m\u001b[0m\u001b[0m\n\u001b[1;32m   4187\u001b[0m \u001b[0;34m\u001b[0m\u001b[0m\n",
            "\u001b[0;32m/usr/local/lib/python3.8/dist-packages/pandas/core/indexes/base.py\u001b[0m in \u001b[0;36mdrop\u001b[0;34m(self, labels, errors)\u001b[0m\n\u001b[1;32m   6015\u001b[0m         \u001b[0;32mif\u001b[0m \u001b[0mmask\u001b[0m\u001b[0;34m.\u001b[0m\u001b[0many\u001b[0m\u001b[0;34m(\u001b[0m\u001b[0;34m)\u001b[0m\u001b[0;34m:\u001b[0m\u001b[0;34m\u001b[0m\u001b[0;34m\u001b[0m\u001b[0m\n\u001b[1;32m   6016\u001b[0m             \u001b[0;32mif\u001b[0m \u001b[0merrors\u001b[0m \u001b[0;34m!=\u001b[0m \u001b[0;34m\"ignore\"\u001b[0m\u001b[0;34m:\u001b[0m\u001b[0;34m\u001b[0m\u001b[0;34m\u001b[0m\u001b[0m\n\u001b[0;32m-> 6017\u001b[0;31m                 \u001b[0;32mraise\u001b[0m \u001b[0mKeyError\u001b[0m\u001b[0;34m(\u001b[0m\u001b[0;34mf\"{labels[mask]} not found in axis\"\u001b[0m\u001b[0;34m)\u001b[0m\u001b[0;34m\u001b[0m\u001b[0;34m\u001b[0m\u001b[0m\n\u001b[0m\u001b[1;32m   6018\u001b[0m             \u001b[0mindexer\u001b[0m \u001b[0;34m=\u001b[0m \u001b[0mindexer\u001b[0m\u001b[0;34m[\u001b[0m\u001b[0;34m~\u001b[0m\u001b[0mmask\u001b[0m\u001b[0;34m]\u001b[0m\u001b[0;34m\u001b[0m\u001b[0;34m\u001b[0m\u001b[0m\n\u001b[1;32m   6019\u001b[0m         \u001b[0;32mreturn\u001b[0m \u001b[0mself\u001b[0m\u001b[0;34m.\u001b[0m\u001b[0mdelete\u001b[0m\u001b[0;34m(\u001b[0m\u001b[0mindexer\u001b[0m\u001b[0;34m)\u001b[0m\u001b[0;34m\u001b[0m\u001b[0;34m\u001b[0m\u001b[0m\n",
            "\u001b[0;31mKeyError\u001b[0m: \"['host_neighbourhood'] not found in axis\""
          ]
        }
      ],
      "source": [
        "data=data.drop(columns=['host_neighbourhood', 'square_feet'])"
      ]
    },
    {
      "cell_type": "code",
      "execution_count": null,
      "metadata": {
        "colab": {
          "base_uri": "https://localhost:8080/"
        },
        "id": "7ktvGWQ4ECaH",
        "outputId": "3de8d620-2afd-4155-9128-b295a166154d"
      },
      "outputs": [
        {
          "output_type": "stream",
          "name": "stdout",
          "text": [
            "[ 50.  77.  95.  69.  70.  30.  57.  59. 160.  25. 120.  45.  37.  89.\n",
            " 192. 100.  15.  52.  80.  68.  60.  28.  40.  62.  47.  38.  75.  55.\n",
            "  65.  39.  72.  56.  98.  79.  63. 300.  49.  35. 245.  29.  48. 180.\n",
            "  18.  43.  85. 135.  99.  76. 168. 125. 177. 275.  20. 110.  91.  87.\n",
            " 130.  82.  22.  23. 140.  19.  17.  90.  27.  78. 149. 185. 105. 260.\n",
            "  61. 158. 148.  26.  24. 210.  34. 150.  42.  74.  31. 182.  36. 404.\n",
            "  21.  97.  16.  41.  32. 280. 205. 143. 169.  12.  10.  88. 200. 108.\n",
            " 195. 310.  46.  51. 411.  14.  58.  44.  64. 500.  73. 126. 170.  33.\n",
            "  71.  93. 220. 119. 240. 250.  66.  94.  11.  13. 406. 408.  96. 102.\n",
            " 225.  54.  53. 235.  67. 252. 112.  83. 115.  92. 285. 186. 270. 190.\n",
            " 175. 183. 122. 139. 299. 556. 104. 145. 159. 207. 407. 405. 409.   9.\n",
            " 124. 103. 165. 179. 136. 113.  nan 350.  86. 153. 403. 128. 259. 155.\n",
            " 174. 138. 117. 249. 254.  84. 325. 258. 265. 118. 218. 469. 550. 129.\n",
            " 434. 106. 410. 127. 400. 199. 800. 375. 109. 163. 101. 144. 194. 219.\n",
            " 206. 114.  81. 111. 116. 201. 412. 121. 133. 147. 167. 188. 595. 475.\n",
            " 107. 320. 161. 223. 450. 239. 295. 178. 146. 875. 230. 345. 222. 290.\n",
            " 380. 680. 716. 197. 237. 204. 209. 227. 366. 229. 132. 707. 390. 281.\n",
            " 162. 338. 137. 316. 536. 700. 315. 141. 590. 189. 850. 221. 750. 579.\n",
            " 123. 314. 131. 577. 216. 202. 261. 181. 134. 722. 712. 215. 356. 600.\n",
            " 231. 156. 414. 715. 360. 198. 525. 328. 370. 191. 494. 247. 365. 330.\n",
            " 196. 399. 395. 465. 211. 283. 431. 470. 706. 413. 650. 455. 689. 427.\n",
            " 232. 166.]\n"
          ]
        }
      ],
      "source": [
        "print(data['price'].unique())"
      ]
    },
    {
      "cell_type": "code",
      "source": [
        "test_data = data.copy()"
      ],
      "metadata": {
        "id": "tGc7tfq1d5k9"
      },
      "execution_count": null,
      "outputs": []
    },
    {
      "cell_type": "code",
      "source": [
        "test_data[\"price\"] = data[\"price\"].fillna(0)\n",
        "test_data[\"security_deposit\"] = data[\"security_deposit\"].fillna(0)\n",
        "test_data[\"cleaning_fee\"] = data[\"cleaning_fee\"].fillna(0)\n"
      ],
      "metadata": {
        "id": "NuFZPBOhMI1S"
      },
      "execution_count": null,
      "outputs": []
    },
    {
      "cell_type": "code",
      "source": [
        "test_data.describe()"
      ],
      "metadata": {
        "colab": {
          "base_uri": "https://localhost:8080/",
          "height": 364
        },
        "id": "92CBKhDXQwtj",
        "outputId": "5e6638a1-ff44-4f6e-bea9-e133c017cc7b"
      },
      "execution_count": null,
      "outputs": [
        {
          "output_type": "execute_result",
          "data": {
            "text/plain": [
              "                 id  host_total_listings_count      latitude     longitude  \\\n",
              "count  1.287200e+04               12869.000000  12872.000000  12872.000000   \n",
              "mean   1.035988e+07                   9.853990     40.420635     -3.697309   \n",
              "std    5.521511e+06                  27.634444      0.020287      0.023827   \n",
              "min    1.862800e+04                   0.000000     40.331888     -3.863907   \n",
              "25%    5.758291e+06                   1.000000     40.410064     -3.707878   \n",
              "50%    1.144753e+07                   2.000000     40.418631     -3.701625   \n",
              "75%    1.533242e+07                   5.000000     40.427814     -3.693959   \n",
              "max    1.810984e+07                 265.000000     40.562736     -3.526821   \n",
              "\n",
              "       square_feet         price  security_deposit  cleaning_fee  \\\n",
              "count   514.000000  12872.000000      12872.000000  12872.000000   \n",
              "mean    373.517510     67.372514         78.119406     17.476227   \n",
              "std     546.873111     61.373834        115.330539     24.646226   \n",
              "min       0.000000      0.000000          0.000000      0.000000   \n",
              "25%       0.000000     31.000000          0.000000      0.000000   \n",
              "50%     100.000000     53.000000          0.000000     10.000000   \n",
              "75%     646.000000     80.000000        150.000000     30.000000   \n",
              "max    5167.000000    875.000000        990.000000    500.000000   \n",
              "\n",
              "       availability_365  number_of_reviews  review_scores_value  \\\n",
              "count      12872.000000       12872.000000         10077.000000   \n",
              "mean         206.704319          23.417418             9.212166   \n",
              "std          126.760049          38.789506             0.952129   \n",
              "min            0.000000           0.000000             2.000000   \n",
              "25%           85.000000           1.000000             9.000000   \n",
              "50%          249.000000           8.000000             9.000000   \n",
              "75%          321.000000          28.000000            10.000000   \n",
              "max          365.000000         446.000000            10.000000   \n",
              "\n",
              "       calculated_host_listings_count  \n",
              "count                    12872.000000  \n",
              "mean                         7.713331  \n",
              "std                         19.811587  \n",
              "min                          1.000000  \n",
              "25%                          1.000000  \n",
              "50%                          2.000000  \n",
              "75%                          4.000000  \n",
              "max                        145.000000  "
            ],
            "text/html": [
              "\n",
              "  <div id=\"df-c04a82b0-f68f-400b-bd7c-6d0bf5cf2bf2\">\n",
              "    <div class=\"colab-df-container\">\n",
              "      <div>\n",
              "<style scoped>\n",
              "    .dataframe tbody tr th:only-of-type {\n",
              "        vertical-align: middle;\n",
              "    }\n",
              "\n",
              "    .dataframe tbody tr th {\n",
              "        vertical-align: top;\n",
              "    }\n",
              "\n",
              "    .dataframe thead th {\n",
              "        text-align: right;\n",
              "    }\n",
              "</style>\n",
              "<table border=\"1\" class=\"dataframe\">\n",
              "  <thead>\n",
              "    <tr style=\"text-align: right;\">\n",
              "      <th></th>\n",
              "      <th>id</th>\n",
              "      <th>host_total_listings_count</th>\n",
              "      <th>latitude</th>\n",
              "      <th>longitude</th>\n",
              "      <th>square_feet</th>\n",
              "      <th>price</th>\n",
              "      <th>security_deposit</th>\n",
              "      <th>cleaning_fee</th>\n",
              "      <th>availability_365</th>\n",
              "      <th>number_of_reviews</th>\n",
              "      <th>review_scores_value</th>\n",
              "      <th>calculated_host_listings_count</th>\n",
              "    </tr>\n",
              "  </thead>\n",
              "  <tbody>\n",
              "    <tr>\n",
              "      <th>count</th>\n",
              "      <td>1.287200e+04</td>\n",
              "      <td>12869.000000</td>\n",
              "      <td>12872.000000</td>\n",
              "      <td>12872.000000</td>\n",
              "      <td>514.000000</td>\n",
              "      <td>12872.000000</td>\n",
              "      <td>12872.000000</td>\n",
              "      <td>12872.000000</td>\n",
              "      <td>12872.000000</td>\n",
              "      <td>12872.000000</td>\n",
              "      <td>10077.000000</td>\n",
              "      <td>12872.000000</td>\n",
              "    </tr>\n",
              "    <tr>\n",
              "      <th>mean</th>\n",
              "      <td>1.035988e+07</td>\n",
              "      <td>9.853990</td>\n",
              "      <td>40.420635</td>\n",
              "      <td>-3.697309</td>\n",
              "      <td>373.517510</td>\n",
              "      <td>67.372514</td>\n",
              "      <td>78.119406</td>\n",
              "      <td>17.476227</td>\n",
              "      <td>206.704319</td>\n",
              "      <td>23.417418</td>\n",
              "      <td>9.212166</td>\n",
              "      <td>7.713331</td>\n",
              "    </tr>\n",
              "    <tr>\n",
              "      <th>std</th>\n",
              "      <td>5.521511e+06</td>\n",
              "      <td>27.634444</td>\n",
              "      <td>0.020287</td>\n",
              "      <td>0.023827</td>\n",
              "      <td>546.873111</td>\n",
              "      <td>61.373834</td>\n",
              "      <td>115.330539</td>\n",
              "      <td>24.646226</td>\n",
              "      <td>126.760049</td>\n",
              "      <td>38.789506</td>\n",
              "      <td>0.952129</td>\n",
              "      <td>19.811587</td>\n",
              "    </tr>\n",
              "    <tr>\n",
              "      <th>min</th>\n",
              "      <td>1.862800e+04</td>\n",
              "      <td>0.000000</td>\n",
              "      <td>40.331888</td>\n",
              "      <td>-3.863907</td>\n",
              "      <td>0.000000</td>\n",
              "      <td>0.000000</td>\n",
              "      <td>0.000000</td>\n",
              "      <td>0.000000</td>\n",
              "      <td>0.000000</td>\n",
              "      <td>0.000000</td>\n",
              "      <td>2.000000</td>\n",
              "      <td>1.000000</td>\n",
              "    </tr>\n",
              "    <tr>\n",
              "      <th>25%</th>\n",
              "      <td>5.758291e+06</td>\n",
              "      <td>1.000000</td>\n",
              "      <td>40.410064</td>\n",
              "      <td>-3.707878</td>\n",
              "      <td>0.000000</td>\n",
              "      <td>31.000000</td>\n",
              "      <td>0.000000</td>\n",
              "      <td>0.000000</td>\n",
              "      <td>85.000000</td>\n",
              "      <td>1.000000</td>\n",
              "      <td>9.000000</td>\n",
              "      <td>1.000000</td>\n",
              "    </tr>\n",
              "    <tr>\n",
              "      <th>50%</th>\n",
              "      <td>1.144753e+07</td>\n",
              "      <td>2.000000</td>\n",
              "      <td>40.418631</td>\n",
              "      <td>-3.701625</td>\n",
              "      <td>100.000000</td>\n",
              "      <td>53.000000</td>\n",
              "      <td>0.000000</td>\n",
              "      <td>10.000000</td>\n",
              "      <td>249.000000</td>\n",
              "      <td>8.000000</td>\n",
              "      <td>9.000000</td>\n",
              "      <td>2.000000</td>\n",
              "    </tr>\n",
              "    <tr>\n",
              "      <th>75%</th>\n",
              "      <td>1.533242e+07</td>\n",
              "      <td>5.000000</td>\n",
              "      <td>40.427814</td>\n",
              "      <td>-3.693959</td>\n",
              "      <td>646.000000</td>\n",
              "      <td>80.000000</td>\n",
              "      <td>150.000000</td>\n",
              "      <td>30.000000</td>\n",
              "      <td>321.000000</td>\n",
              "      <td>28.000000</td>\n",
              "      <td>10.000000</td>\n",
              "      <td>4.000000</td>\n",
              "    </tr>\n",
              "    <tr>\n",
              "      <th>max</th>\n",
              "      <td>1.810984e+07</td>\n",
              "      <td>265.000000</td>\n",
              "      <td>40.562736</td>\n",
              "      <td>-3.526821</td>\n",
              "      <td>5167.000000</td>\n",
              "      <td>875.000000</td>\n",
              "      <td>990.000000</td>\n",
              "      <td>500.000000</td>\n",
              "      <td>365.000000</td>\n",
              "      <td>446.000000</td>\n",
              "      <td>10.000000</td>\n",
              "      <td>145.000000</td>\n",
              "    </tr>\n",
              "  </tbody>\n",
              "</table>\n",
              "</div>\n",
              "      <button class=\"colab-df-convert\" onclick=\"convertToInteractive('df-c04a82b0-f68f-400b-bd7c-6d0bf5cf2bf2')\"\n",
              "              title=\"Convert this dataframe to an interactive table.\"\n",
              "              style=\"display:none;\">\n",
              "        \n",
              "  <svg xmlns=\"http://www.w3.org/2000/svg\" height=\"24px\"viewBox=\"0 0 24 24\"\n",
              "       width=\"24px\">\n",
              "    <path d=\"M0 0h24v24H0V0z\" fill=\"none\"/>\n",
              "    <path d=\"M18.56 5.44l.94 2.06.94-2.06 2.06-.94-2.06-.94-.94-2.06-.94 2.06-2.06.94zm-11 1L8.5 8.5l.94-2.06 2.06-.94-2.06-.94L8.5 2.5l-.94 2.06-2.06.94zm10 10l.94 2.06.94-2.06 2.06-.94-2.06-.94-.94-2.06-.94 2.06-2.06.94z\"/><path d=\"M17.41 7.96l-1.37-1.37c-.4-.4-.92-.59-1.43-.59-.52 0-1.04.2-1.43.59L10.3 9.45l-7.72 7.72c-.78.78-.78 2.05 0 2.83L4 21.41c.39.39.9.59 1.41.59.51 0 1.02-.2 1.41-.59l7.78-7.78 2.81-2.81c.8-.78.8-2.07 0-2.86zM5.41 20L4 18.59l7.72-7.72 1.47 1.35L5.41 20z\"/>\n",
              "  </svg>\n",
              "      </button>\n",
              "      \n",
              "  <style>\n",
              "    .colab-df-container {\n",
              "      display:flex;\n",
              "      flex-wrap:wrap;\n",
              "      gap: 12px;\n",
              "    }\n",
              "\n",
              "    .colab-df-convert {\n",
              "      background-color: #E8F0FE;\n",
              "      border: none;\n",
              "      border-radius: 50%;\n",
              "      cursor: pointer;\n",
              "      display: none;\n",
              "      fill: #1967D2;\n",
              "      height: 32px;\n",
              "      padding: 0 0 0 0;\n",
              "      width: 32px;\n",
              "    }\n",
              "\n",
              "    .colab-df-convert:hover {\n",
              "      background-color: #E2EBFA;\n",
              "      box-shadow: 0px 1px 2px rgba(60, 64, 67, 0.3), 0px 1px 3px 1px rgba(60, 64, 67, 0.15);\n",
              "      fill: #174EA6;\n",
              "    }\n",
              "\n",
              "    [theme=dark] .colab-df-convert {\n",
              "      background-color: #3B4455;\n",
              "      fill: #D2E3FC;\n",
              "    }\n",
              "\n",
              "    [theme=dark] .colab-df-convert:hover {\n",
              "      background-color: #434B5C;\n",
              "      box-shadow: 0px 1px 3px 1px rgba(0, 0, 0, 0.15);\n",
              "      filter: drop-shadow(0px 1px 2px rgba(0, 0, 0, 0.3));\n",
              "      fill: #FFFFFF;\n",
              "    }\n",
              "  </style>\n",
              "\n",
              "      <script>\n",
              "        const buttonEl =\n",
              "          document.querySelector('#df-c04a82b0-f68f-400b-bd7c-6d0bf5cf2bf2 button.colab-df-convert');\n",
              "        buttonEl.style.display =\n",
              "          google.colab.kernel.accessAllowed ? 'block' : 'none';\n",
              "\n",
              "        async function convertToInteractive(key) {\n",
              "          const element = document.querySelector('#df-c04a82b0-f68f-400b-bd7c-6d0bf5cf2bf2');\n",
              "          const dataTable =\n",
              "            await google.colab.kernel.invokeFunction('convertToInteractive',\n",
              "                                                     [key], {});\n",
              "          if (!dataTable) return;\n",
              "\n",
              "          const docLinkHtml = 'Like what you see? Visit the ' +\n",
              "            '<a target=\"_blank\" href=https://colab.research.google.com/notebooks/data_table.ipynb>data table notebook</a>'\n",
              "            + ' to learn more about interactive tables.';\n",
              "          element.innerHTML = '';\n",
              "          dataTable['output_type'] = 'display_data';\n",
              "          await google.colab.output.renderOutput(dataTable, element);\n",
              "          const docLink = document.createElement('div');\n",
              "          docLink.innerHTML = docLinkHtml;\n",
              "          element.appendChild(docLink);\n",
              "        }\n",
              "      </script>\n",
              "    </div>\n",
              "  </div>\n",
              "  "
            ]
          },
          "metadata": {},
          "execution_count": 21
        }
      ]
    },
    {
      "cell_type": "code",
      "source": [
        "test_data[\"sum_price\"] = test_data.price + test_data.security_deposit + test_data.cleaning_fee"
      ],
      "metadata": {
        "id": "yv2N-kgAQL5X"
      },
      "execution_count": null,
      "outputs": []
    },
    {
      "cell_type": "code",
      "execution_count": null,
      "metadata": {
        "colab": {
          "base_uri": "https://localhost:8080/"
        },
        "id": "_tY3UYKDPXaq",
        "outputId": "9b42bf3d-50e6-4c89-8342-16f74c505be2"
      },
      "outputs": [
        {
          "output_type": "stream",
          "name": "stdout",
          "text": [
            "<class 'pandas.core.frame.DataFrame'>\n",
            "Int64Index: 12872 entries, 0 to 14770\n",
            "Data columns (total 31 columns):\n",
            " #   Column                          Non-Null Count  Dtype  \n",
            "---  ------                          --------------  -----  \n",
            " 0   id                              12872 non-null  int64  \n",
            " 1   picture_url                     12844 non-null  object \n",
            " 2   host_since                      12869 non-null  object \n",
            " 3   host_total_listings_count       12869 non-null  float64\n",
            " 4   neighbourhood_cleansed          12872 non-null  object \n",
            " 5   neighbourhood_group_cleansed    12872 non-null  object \n",
            " 6   zipcode                         12872 non-null  object \n",
            " 7   latitude                        12872 non-null  float64\n",
            " 8   longitude                       12872 non-null  float64\n",
            " 9   property_type                   12872 non-null  object \n",
            " 10  room_type                       12872 non-null  object \n",
            " 11  bed_type                        12872 non-null  object \n",
            " 12  square_feet                     514 non-null    float64\n",
            " 13  price                           12872 non-null  float64\n",
            " 14  security_deposit                12872 non-null  float64\n",
            " 15  cleaning_fee                    12872 non-null  float64\n",
            " 16  availability_365                12872 non-null  int64  \n",
            " 17  number_of_reviews               12872 non-null  int64  \n",
            " 18  review_scores_value             10077 non-null  float64\n",
            " 19  cancellation_policy             12872 non-null  object \n",
            " 20  calculated_host_listings_count  12872 non-null  float64\n",
            " 21  geolocation                     12872 non-null  object \n",
            " 22  profile_pic                     12872 non-null  bool   \n",
            " 23  identity_verified               12872 non-null  bool   \n",
            " 24  location_exact                  12872 non-null  bool   \n",
            " 25  instant_bookable                12872 non-null  bool   \n",
            " 26  license_required                12872 non-null  bool   \n",
            " 27  guest_pic_required              12872 non-null  bool   \n",
            " 28  superhost                       12872 non-null  bool   \n",
            " 29  guest_phone_verification        12872 non-null  bool   \n",
            " 30  sum_price                       12872 non-null  float64\n",
            "dtypes: bool(8), float64(10), int64(3), object(10)\n",
            "memory usage: 2.5+ MB\n"
          ]
        }
      ],
      "source": [
        "test_data.info()"
      ]
    },
    {
      "cell_type": "markdown",
      "metadata": {
        "id": "WZ0ixNGEtlF5"
      },
      "source": [
        "Voy a eliminar todas las filas que no tengan un precio ya que es un parámetro importate que nos han dicho a analizar y todas aquellas filas que no tengan este dato me parece que no sirven. "
      ]
    },
    {
      "cell_type": "code",
      "execution_count": null,
      "metadata": {
        "colab": {
          "base_uri": "https://localhost:8080/"
        },
        "id": "025UkkUFtG-D",
        "outputId": "9f37f1f8-e16a-4bb0-d1ea-b5cbed61e0b7"
      },
      "outputs": [
        {
          "output_type": "stream",
          "name": "stdout",
          "text": [
            "[ 36.  85. 190.  30.  18.  38.  71.  34.  60.  45.  40.  28. 120.  50.\n",
            "  27.  63. 160.  70.  49.  43. 125. 210.  89.  75.  59.  42.  55.  94.\n",
            " 150. 126. 165.  72.  25.  68.  65. 115.  66. 149.  52. 220. 100.  51.\n",
            "  64. 128.  95. 111.  20. 116. 201.  26. 140.  53.  83.  23.  19. 133.\n",
            "  86.  32.  47.  35. 200.  80.  69. 185.  39.  96.  16. 113.  90.  57.\n",
            " 155.  15.  46.  37. 130.  82. 105.  77.  24.  14.  44. 147.  29.  88.\n",
            " 112. 114.  21.  79.  78.  22.  31. 167. 250. 110.  48.  17.  98.  41.\n",
            "  99. 121.  11.  10. 412.  54. 108. 188.  58.  33. 500. 109. 186.  76.\n",
            "  62.  73. 124. 300. 104. 408.  12. 138.  92. 180. 194.  81. 404. 106.\n",
            " 119.  61.  67.  84. 163. 206. 135. 375. 143.  91. 103. 145. 219. 144.\n",
            " 101.  74. 700. 102. 315.  56. 240. 132. 175. 260. 310.  87. 141. 230.\n",
            " 590. 189. 850. 716. 350. 450. 750. 162. 148. 579. 205. 129.  97. 221.\n",
            " 118. 475. 136.  13. 139. 407. 405. 199. 525. 179. 195. 153. 411. 403.\n",
            " 259. 261. 285. 181. 400. 577. 170. 216. 245. 202. 406. 123. 314. 131.\n",
            " 209. 536. 158. 159. 134. 192. 168. 177. 275. 182. 280. 169. 225. 410.\n",
            " 316. 207. 556. 270. 191. 117. 290. 107. 222. 299. 380. 680. 197.   9.\n",
            " 237.  93. 252. 235. 600. 595. 127. 156. 431. 470. 706. 413. 283. 360.\n",
            " 204. 227. 366. 229. 707. 390. 281. 338. 137. 174. 258. 325. 249. 254.\n",
            " 722. 712. 215. 356. 231. 239. 295. 178. 146. 875. 345. 550. 198. 715.\n",
            " 414. 183. 122. 409. 328. 370. 494. 247. 365. 330. 465. 211. 196. 399.\n",
            " 395. 320. 434. 469. 800. 265. 218. 166. 223. 161. 650. 455. 689. 427.\n",
            " 232.]\n"
          ]
        }
      ],
      "source": [
        "data=data.dropna(subset=[\"price\"])\n",
        "print(data['price'].unique())"
      ]
    },
    {
      "cell_type": "code",
      "execution_count": null,
      "metadata": {
        "colab": {
          "base_uri": "https://localhost:8080/"
        },
        "id": "d1pFwTSZtYWp",
        "outputId": "983c7fa5-20f2-4c10-d7ad-747c2bb99f7f"
      },
      "outputs": [
        {
          "output_type": "stream",
          "name": "stdout",
          "text": [
            "<class 'pandas.core.frame.DataFrame'>\n",
            "Int64Index: 12864 entries, 3 to 14759\n",
            "Data columns (total 28 columns):\n",
            " #   Column                          Non-Null Count  Dtype  \n",
            "---  ------                          --------------  -----  \n",
            " 0   id                              12864 non-null  int64  \n",
            " 1   host_since                      12861 non-null  object \n",
            " 2   host_total_listings_count       12861 non-null  float64\n",
            " 3   neighbourhood_cleansed          12864 non-null  object \n",
            " 4   neighbourhood_group_cleansed    12864 non-null  object \n",
            " 5   zipcode                         12864 non-null  object \n",
            " 6   latitude                        12864 non-null  float64\n",
            " 7   longitude                       12864 non-null  float64\n",
            " 8   property_type                   12864 non-null  object \n",
            " 9   room_type                       12864 non-null  object \n",
            " 10  bed_type                        12864 non-null  object \n",
            " 11  price                           12864 non-null  float64\n",
            " 12  security_deposit                5479 non-null   float64\n",
            " 13  cleaning_fee                    7586 non-null   float64\n",
            " 14  availability_365                12864 non-null  int64  \n",
            " 15  number_of_reviews               12864 non-null  int64  \n",
            " 16  review_scores_value             10074 non-null  float64\n",
            " 17  cancellation_policy             12864 non-null  object \n",
            " 18  calculated_host_listings_count  12864 non-null  float64\n",
            " 19  geolocation                     12864 non-null  object \n",
            " 20  profile_pic                     12864 non-null  bool   \n",
            " 21  identity_verified               12864 non-null  bool   \n",
            " 22  location_exact                  12864 non-null  bool   \n",
            " 23  instant_bookable                12864 non-null  bool   \n",
            " 24  license_required                12864 non-null  bool   \n",
            " 25  guest_pic_required              12864 non-null  bool   \n",
            " 26  superhost                       12864 non-null  bool   \n",
            " 27  guest_phone_verification        12864 non-null  bool   \n",
            "dtypes: bool(8), float64(8), int64(3), object(9)\n",
            "memory usage: 2.2+ MB\n"
          ]
        }
      ],
      "source": [
        "data.info()"
      ]
    },
    {
      "cell_type": "markdown",
      "source": [
        "Andrea: Yo me saltaría el paso de eliminar registros con nulls en security deposit etc. No veo necesario que tengan que tener informado esos campos ni que lo tengan. Sobre review scores value, no tengo claro que review es esa (del precio?). En mi opinión, no los utilizaría para eliminar registros, menos cuando con eso te quitas 2/3 de los datos con otros factores informados que puede ser útil, y se queda un volumen de datos muy pequeño como para que las predicciones sean significativas.\n",
        "Cogería el fichero del codigo de arriba y le metería el cálculo y exportaría el csv para cargarlo en tableau y R."
      ],
      "metadata": {
        "id": "R4DfcoxH5IX6"
      }
    },
    {
      "cell_type": "code",
      "execution_count": null,
      "metadata": {
        "colab": {
          "base_uri": "https://localhost:8080/"
        },
        "id": "yluHKay75VZa",
        "outputId": "20dd127e-5bbb-4e47-f487-69e2005db444"
      },
      "outputs": [
        {
          "output_type": "stream",
          "name": "stdout",
          "text": [
            "[10.  9.  7. nan  8.  2.  6.  3.  4.  5.]\n"
          ]
        }
      ],
      "source": [
        "print(data['review_scores_value'].unique())"
      ]
    },
    {
      "cell_type": "markdown",
      "source": [
        "Greta: guardo una copia del data set para poder hacer el boxplot"
      ],
      "metadata": {
        "id": "S4fuNuozwGhS"
      }
    },
    {
      "cell_type": "code",
      "source": [
        "prueba = data.copy()"
      ],
      "metadata": {
        "id": "q7Y6oTMZtrUy"
      },
      "execution_count": null,
      "outputs": []
    },
    {
      "cell_type": "code",
      "execution_count": null,
      "metadata": {
        "colab": {
          "base_uri": "https://localhost:8080/"
        },
        "id": "-X0DIBYx-fFs",
        "outputId": "ad314d3f-2a39-4d99-a4e9-fab2d7f8de38"
      },
      "outputs": [
        {
          "output_type": "stream",
          "name": "stdout",
          "text": [
            "<class 'pandas.core.frame.DataFrame'>\n",
            "Int64Index: 3760 entries, 4 to 14755\n",
            "Data columns (total 28 columns):\n",
            " #   Column                          Non-Null Count  Dtype  \n",
            "---  ------                          --------------  -----  \n",
            " 0   id                              3760 non-null   int64  \n",
            " 1   host_since                      3760 non-null   object \n",
            " 2   host_total_listings_count       3760 non-null   float64\n",
            " 3   neighbourhood_cleansed          3760 non-null   object \n",
            " 4   neighbourhood_group_cleansed    3760 non-null   object \n",
            " 5   zipcode                         3760 non-null   object \n",
            " 6   latitude                        3760 non-null   float64\n",
            " 7   longitude                       3760 non-null   float64\n",
            " 8   property_type                   3760 non-null   object \n",
            " 9   room_type                       3760 non-null   object \n",
            " 10  bed_type                        3760 non-null   object \n",
            " 11  price                           3760 non-null   float64\n",
            " 12  security_deposit                3760 non-null   float64\n",
            " 13  cleaning_fee                    3760 non-null   float64\n",
            " 14  availability_365                3760 non-null   int64  \n",
            " 15  number_of_reviews               3760 non-null   int64  \n",
            " 16  review_scores_value             3760 non-null   float64\n",
            " 17  cancellation_policy             3760 non-null   object \n",
            " 18  calculated_host_listings_count  3760 non-null   float64\n",
            " 19  geolocation                     3760 non-null   object \n",
            " 20  profile_pic                     3760 non-null   bool   \n",
            " 21  identity_verified               3760 non-null   bool   \n",
            " 22  location_exact                  3760 non-null   bool   \n",
            " 23  instant_bookable                3760 non-null   bool   \n",
            " 24  license_required                3760 non-null   bool   \n",
            " 25  guest_pic_required              3760 non-null   bool   \n",
            " 26  superhost                       3760 non-null   bool   \n",
            " 27  guest_phone_verification        3760 non-null   bool   \n",
            "dtypes: bool(8), float64(8), int64(3), object(9)\n",
            "memory usage: 646.2+ KB\n"
          ]
        }
      ],
      "source": [
        "prueba=data.dropna(subset=[\"security_deposit\"])\n",
        "prueba=prueba.dropna(subset=[\"cleaning_fee\"])\n",
        "prueba=prueba.dropna(subset=[\"review_scores_value\"])\n",
        "prueba.info()"
      ]
    },
    {
      "cell_type": "code",
      "execution_count": null,
      "metadata": {
        "colab": {
          "base_uri": "https://localhost:8080/"
        },
        "id": "ZwmvciMkA0U0",
        "outputId": "1ec2d7b5-7bc9-4e1e-d657-a0648efbfff9"
      },
      "outputs": [
        {
          "output_type": "stream",
          "name": "stdout",
          "text": [
            "<class 'pandas.core.frame.DataFrame'>\n",
            "Int64Index: 3760 entries, 4 to 14755\n",
            "Data columns (total 29 columns):\n",
            " #   Column                          Non-Null Count  Dtype  \n",
            "---  ------                          --------------  -----  \n",
            " 0   id                              3760 non-null   int64  \n",
            " 1   host_since                      3760 non-null   object \n",
            " 2   host_total_listings_count       3760 non-null   float64\n",
            " 3   neighbourhood_cleansed          3760 non-null   object \n",
            " 4   neighbourhood_group_cleansed    3760 non-null   object \n",
            " 5   zipcode                         3760 non-null   object \n",
            " 6   latitude                        3760 non-null   float64\n",
            " 7   longitude                       3760 non-null   float64\n",
            " 8   property_type                   3760 non-null   object \n",
            " 9   room_type                       3760 non-null   object \n",
            " 10  bed_type                        3760 non-null   object \n",
            " 11  price                           3760 non-null   float64\n",
            " 12  security_deposit                3760 non-null   float64\n",
            " 13  cleaning_fee                    3760 non-null   float64\n",
            " 14  availability_365                3760 non-null   int64  \n",
            " 15  number_of_reviews               3760 non-null   int64  \n",
            " 16  review_scores_value             3760 non-null   float64\n",
            " 17  cancellation_policy             3760 non-null   object \n",
            " 18  calculated_host_listings_count  3760 non-null   float64\n",
            " 19  geolocation                     3760 non-null   object \n",
            " 20  profile_pic                     3760 non-null   bool   \n",
            " 21  identity_verified               3760 non-null   bool   \n",
            " 22  location_exact                  3760 non-null   bool   \n",
            " 23  instant_bookable                3760 non-null   bool   \n",
            " 24  license_required                3760 non-null   bool   \n",
            " 25  guest_pic_required              3760 non-null   bool   \n",
            " 26  superhost                       3760 non-null   bool   \n",
            " 27  guest_phone_verification        3760 non-null   bool   \n",
            " 28  total_price                     3760 non-null   float64\n",
            "dtypes: bool(8), float64(9), int64(3), object(9)\n",
            "memory usage: 675.6+ KB\n"
          ]
        }
      ],
      "source": [
        "prueba['total_price'] = prueba['price'] + prueba['security_deposit']+ prueba['cleaning_fee']\n",
        "prueba.info()"
      ]
    },
    {
      "cell_type": "code",
      "source": [
        "sns.boxplot(x=\"sum_price\", y=\"room_type\", data = test_data)"
      ],
      "metadata": {
        "colab": {
          "base_uri": "https://localhost:8080/",
          "height": 298
        },
        "id": "jnCb5Dg4tdto",
        "outputId": "9a3c26cb-fc90-49a6-b251-216341f45494"
      },
      "execution_count": null,
      "outputs": [
        {
          "output_type": "execute_result",
          "data": {
            "text/plain": [
              "<matplotlib.axes._subplots.AxesSubplot at 0x7f54a7045f10>"
            ]
          },
          "metadata": {},
          "execution_count": 84
        },
        {
          "output_type": "display_data",
          "data": {
            "text/plain": [
              "<Figure size 432x288 with 1 Axes>"
            ],
            "image/png": "[encoded data removed]"
          },
          "metadata": {
            "needs_background": "light"
          }
        }
      ]
    },
    {
      "cell_type": "code",
      "source": [
        "sns.boxplot(x=\"total_price\", y=\"room_type\", data = prueba)"
      ],
      "metadata": {
        "colab": {
          "base_uri": "https://localhost:8080/",
          "height": 298
        },
        "id": "OACsBYwttoBp",
        "outputId": "1593dd10-5c74-4ab7-e4e6-84c7e6e0970d"
      },
      "execution_count": null,
      "outputs": [
        {
          "output_type": "execute_result",
          "data": {
            "text/plain": [
              "<matplotlib.axes._subplots.AxesSubplot at 0x7f54a62ebcd0>"
            ]
          },
          "metadata": {},
          "execution_count": 85
        },
        {
          "output_type": "display_data",
          "data": {
            "text/plain": [
              "<Figure size 432x288 with 1 Axes>"
            ],
            "image/png": "[encoded data removed]"
          },
          "metadata": {
            "needs_background": "light"
          }
        }
      ]
    },
    {
      "cell_type": "markdown",
      "source": [
        "Greta: comparo los campos calculados. Hay muchos mas outliers en el campo con 0 por Nan. y se modifica la mediana.\n",
        "Hago la misma comparacion solo con price\n"
      ],
      "metadata": {
        "id": "r4gmXUDVwy_T"
      }
    },
    {
      "cell_type": "code",
      "source": [
        "sns.boxplot(x=\"price\", y=\"room_type\", data = test_data)"
      ],
      "metadata": {
        "colab": {
          "base_uri": "https://localhost:8080/",
          "height": 297
        },
        "id": "rTl1SsgR2hd5",
        "outputId": "d23d94f1-2e68-40fb-d54c-82673911953b"
      },
      "execution_count": null,
      "outputs": [
        {
          "output_type": "execute_result",
          "data": {
            "text/plain": [
              "<matplotlib.axes._subplots.AxesSubplot at 0x7f54a63519d0>"
            ]
          },
          "metadata": {},
          "execution_count": 86
        },
        {
          "output_type": "display_data",
          "data": {
            "text/plain": [
              "<Figure size 432x288 with 1 Axes>"
            ],
            "image/png": "[encoded data removed]"
          },
          "metadata": {
            "needs_background": "light"
          }
        }
      ]
    },
    {
      "cell_type": "code",
      "source": [
        "sns.boxplot(x=\"price\", y=\"room_type\", data= prueba)"
      ],
      "metadata": {
        "colab": {
          "base_uri": "https://localhost:8080/",
          "height": 297
        },
        "id": "yIhUNWuo2t_J",
        "outputId": "d2ddfedf-0930-4be8-f196-ecbcf9934cdf"
      },
      "execution_count": null,
      "outputs": [
        {
          "output_type": "execute_result",
          "data": {
            "text/plain": [
              "<matplotlib.axes._subplots.AxesSubplot at 0x7f54a6d72700>"
            ]
          },
          "metadata": {},
          "execution_count": 88
        },
        {
          "output_type": "display_data",
          "data": {
            "text/plain": [
              "<Figure size 432x288 with 1 Axes>"
            ],
            "image/png": "[encoded data removed]"
          },
          "metadata": {
            "needs_background": "light"
          }
        }
      ]
    },
    {
      "cell_type": "markdown",
      "metadata": {
        "id": "6tnmxGg6Cw2y"
      },
      "source": [
        "Me voy a descargar esta prueba que no he querido sobreescribir porque me quito bastante filas que para analizar después en una regresión lineal no me van a influir (me quedo con 3760 filas y 29 columnas)"
      ]
    },
    {
      "cell_type": "code",
      "execution_count": null,
      "metadata": {
        "colab": {
          "base_uri": "https://localhost:8080/",
          "height": 17
        },
        "id": "ygv1m7aLBzAN",
        "outputId": "794cd4df-bef1-4102-f7dc-8f7ee1dcb302"
      },
      "outputs": [
        {
          "data": {
            "application/javascript": [
              "\n",
              "    async function download(id, filename, size) {\n",
              "      if (!google.colab.kernel.accessAllowed) {\n",
              "        return;\n",
              "      }\n",
              "      const div = document.createElement('div');\n",
              "      const label = document.createElement('label');\n",
              "      label.textContent = `Downloading \"${filename}\": `;\n",
              "      div.appendChild(label);\n",
              "      const progress = document.createElement('progress');\n",
              "      progress.max = size;\n",
              "      div.appendChild(progress);\n",
              "      document.body.appendChild(div);\n",
              "\n",
              "      const buffers = [];\n",
              "      let downloaded = 0;\n",
              "\n",
              "      const channel = await google.colab.kernel.comms.open(id);\n",
              "      // Send a message to notify the kernel that we're ready.\n",
              "      channel.send({})\n",
              "\n",
              "      for await (const message of channel.messages) {\n",
              "        // Send a message to notify the kernel that we're ready.\n",
              "        channel.send({})\n",
              "        if (message.buffers) {\n",
              "          for (const buffer of message.buffers) {\n",
              "            buffers.push(buffer);\n",
              "            downloaded += buffer.byteLength;\n",
              "            progress.value = downloaded;\n",
              "          }\n",
              "        }\n",
              "      }\n",
              "      const blob = new Blob(buffers, {type: 'application/binary'});\n",
              "      const a = document.createElement('a');\n",
              "      a.href = window.URL.createObjectURL(blob);\n",
              "      a.download = filename;\n",
              "      div.appendChild(a);\n",
              "      a.click();\n",
              "      div.remove();\n",
              "    }\n",
              "  "
            ],
            "text/plain": [
              "<IPython.core.display.Javascript object>"
            ]
          },
          "metadata": {},
          "output_type": "display_data"
        },
        {
          "data": {
            "application/javascript": [
              "download(\"download_b1f1cf69-e155-4fbd-9ff0-0183790190b2\", \"data2.csv\", 957650)"
            ],
            "text/plain": [
              "<IPython.core.display.Javascript object>"
            ]
          },
          "metadata": {},
          "output_type": "display_data"
        }
      ],
      "source": [
        "prueba.to_csv('data2.csv')\n",
        "from google.colab import files \n",
        "files.download('data2.csv')"
      ]
    }
  ],
  "metadata": {
    "colab": {
      "provenance": []
    },
    "kernelspec": {
      "display_name": "Python 3",
      "name": "python3"
    },
    "language_info": {
      "name": "python"
    }
  },
  "nbformat": 4,
  "nbformat_minor": 0
}